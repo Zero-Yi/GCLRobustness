{
 "cells": [
  {
   "cell_type": "code",
   "execution_count": 61,
   "metadata": {},
   "outputs": [],
   "source": [
    "import torch\n",
    "import torch.nn as nn\n",
    "from torch_geometric.nn.models import DeepGraphInfomax, GCN\n",
    "from layer.readout import AvgReadout\n",
    "from layer.corrupt import FeatureShuffle\n",
    "from torch_geometric.datasets import CitationFull\n",
    "from torch_geometric.utils import get_laplacian, remove_self_loops\n",
    "\n",
    "import os.path as osp\n",
    "import numpy as np\n",
    "\n",
    "import GCL.augmentors as A\n",
    "import copy\n",
    "\n",
    "from aug.my_feature_masking import MyFeatureMasking\n",
    "from layer.MyGCN import MyGCN"
   ]
  },
  {
   "cell_type": "code",
   "execution_count": 7,
   "metadata": {},
   "outputs": [
    {
     "name": "stdout",
     "output_type": "stream",
     "text": [
      "The autoreload extension is already loaded. To reload it, use:\n",
      "  %reload_ext autoreload\n"
     ]
    }
   ],
   "source": [
    "%load_ext autoreload\n",
    "%autoreload 2"
   ]
  },
  {
   "cell_type": "code",
   "execution_count": 45,
   "metadata": {},
   "outputs": [],
   "source": [
    "hid_units = 512\n",
    "\n",
    "# load dataset\n",
    "device = torch.device('cuda')\n",
    "path = osp.join(osp.expanduser('~'), 'datasets')\n",
    "dataset = CitationFull(path, name='Cora')\n",
    "# dataset = Planetoid(path, name=dataset_name)\n",
    "assert len(dataset) == 1, \"Expecting node classification on one huge graph\"\n",
    "\n",
    "data = dataset[0]\n",
    "x = data.x\n",
    "y = data.y\n",
    "edge_index = data.edge_index\n",
    "n_features = dataset.num_features\n",
    "num_classes = dataset.num_classes\n",
    "num_nodes = x.shape[0]\n",
    "\n",
    "lbl_1 = torch.ones(num_nodes).unsqueeze(1)\n",
    "lbl_2 = torch.zeros(num_nodes).unsqueeze(1)\n",
    "double_lbl = torch.cat((lbl_1, lbl_2), 1)\n",
    "\n",
    "train_set, val_set, test_set = torch.utils.data.random_split(range(num_nodes), [0.8,0,0.2])\n",
    "idx_train = torch.tensor(train_set.indices)\n",
    "idx_val = torch.tensor(val_set.indices)\n",
    "idx_test = torch.tensor(test_set.indices)\n",
    "\n",
    "augmentor = A.EdgeRemoving(0.05)\n",
    "edge_index, edge_weight = get_laplacian(edge_index, normalization = 'sym')"
   ]
  },
  {
   "cell_type": "code",
   "execution_count": 36,
   "metadata": {},
   "outputs": [],
   "source": [
    "encoder = MyGCN(in_channels=n_features, hidden_channels=512, num_layers=1, act='prelu')\n",
    "summary = AvgReadout()\n",
    "corruption = FeatureShuffle()\n",
    "model = DeepGraphInfomax(hidden_channels=512, \n",
    "                        encoder=encoder,\n",
    "                        summary=summary,\n",
    "                        corruption=corruption)"
   ]
  },
  {
   "cell_type": "code",
   "execution_count": 47,
   "metadata": {},
   "outputs": [],
   "source": [
    "x1, edge_index1, _ = aug_node(data.x, data.edge_index)\n",
    "x2, edge_index2, _ = aug_mask(data.x, data.edge_index)\n",
    "edge_index1, edge_weight1 = get_laplacian(edge_index1, normalization = 'sym')"
   ]
  },
  {
   "cell_type": "code",
   "execution_count": 48,
   "metadata": {},
   "outputs": [
    {
     "data": {
      "text/plain": [
       "tensor([[-0.1439,  0.0794, -0.0705,  ...,  0.0196, -0.1589, -0.0187],\n",
       "        [-0.0268,  0.0704, -0.0988,  ..., -0.0169,  0.0222,  0.0472],\n",
       "        [-0.0268,  0.0704, -0.0988,  ..., -0.0169,  0.0222,  0.0472],\n",
       "        ...,\n",
       "        [-0.0334, -0.0432,  0.0212,  ..., -0.0057, -0.0629, -0.0028],\n",
       "        [-0.0912,  0.0022, -0.0392,  ..., -0.0208, -0.1000,  0.0148],\n",
       "        [ 0.0209, -0.0495, -0.0114,  ...,  0.0036, -0.0212,  0.0468]],\n",
       "       grad_fn=<AddBackward0>)"
      ]
     },
     "execution_count": 48,
     "metadata": {},
     "output_type": "execute_result"
    }
   ],
   "source": [
    "encoder.gcn(x, edge_index)"
   ]
  },
  {
   "cell_type": "code",
   "execution_count": 63,
   "metadata": {},
   "outputs": [
    {
     "data": {
      "text/plain": [
       "tensor(0.0065)"
      ]
     },
     "execution_count": 63,
     "metadata": {},
     "output_type": "execute_result"
    }
   ],
   "source": [
    "edge_weight.min()"
   ]
  },
  {
   "cell_type": "code",
   "execution_count": 62,
   "metadata": {},
   "outputs": [],
   "source": [
    "pos_z = model.encoder(x, edge_index, edge_weight = edge_weight)\n",
    "edge_index, edge_weight = remove_self_loops(edge_index, -edge_weight)"
   ]
  },
  {
   "cell_type": "code",
   "execution_count": 64,
   "metadata": {},
   "outputs": [
    {
     "data": {
      "text/plain": [
       "tensor([[ 0.0902,  0.0316, -0.0217,  ...,  0.0839, -0.0078,  0.0388],\n",
       "        [ 0.1330,  0.0760, -0.0780,  ...,  0.0748,  0.0993,  0.1501],\n",
       "        [ 0.1330,  0.0760, -0.0780,  ...,  0.0748,  0.0993,  0.1501],\n",
       "        ...,\n",
       "        [-0.0965, -0.0693,  0.0226,  ...,  0.0684,  0.1946,  0.0115],\n",
       "        [-0.0166,  0.0364,  0.0570,  ..., -0.0003, -0.0682,  0.0269],\n",
       "        [-0.0053, -0.0453, -0.1507,  ..., -0.0905, -0.0432,  0.0371]],\n",
       "       grad_fn=<AddBackward0>)"
      ]
     },
     "execution_count": 64,
     "metadata": {},
     "output_type": "execute_result"
    }
   ],
   "source": [
    "gcn = GCN(in_channels=n_features, hidden_channels=512, num_layers=1, act='prelu')\n",
    "gcn(x, edge_index, edge_weight = edge_weight)"
   ]
  },
  {
   "cell_type": "code",
   "execution_count": 87,
   "metadata": {},
   "outputs": [
    {
     "name": "stdout",
     "output_type": "stream",
     "text": [
      "torch.Size([19793, 512])\n",
      "torch.Size([19793, 512])\n",
      "torch.Size([512])\n"
     ]
    }
   ],
   "source": [
    "pz, nz, s = out\n",
    "print(pz.shape)\n",
    "print(nz.shape)\n",
    "print(s.shape)"
   ]
  },
  {
   "cell_type": "code",
   "execution_count": 88,
   "metadata": {},
   "outputs": [],
   "source": [
    "def disc(summary_aug1, pos, neg, DGI):\n",
    "    pos_logits = DGI.discriminate(z = pos, summary = summary_aug1, sigmoid = False)\n",
    "    neg_logits = DGI.discriminate(z = neg, summary = summary_aug1, sigmoid = False)\n",
    "    return torch.cat((pos_logits.unsqueeze(1), neg_logits.unsqueeze(1)),1)"
   ]
  },
  {
   "cell_type": "code",
   "execution_count": 89,
   "metadata": {},
   "outputs": [
    {
     "name": "stdout",
     "output_type": "stream",
     "text": [
      "torch.Size([19793, 2])\n"
     ]
    }
   ],
   "source": [
    "double_logits1 = disc(s1, pz, nz, contrastiveModel)\n",
    "double_logits2 = disc(s2, pz, nz, contrastiveModel)\n",
    "double_logits = double_logits1 + double_logits2\n",
    "print(double_logits.shape)"
   ]
  },
  {
   "cell_type": "code",
   "execution_count": 94,
   "metadata": {},
   "outputs": [],
   "source": [
    "b_xent = nn.BCEWithLogitsLoss()\n",
    "loss = b_xent(double_logits, double_lbl)"
   ]
  },
  {
   "cell_type": "code",
   "execution_count": 96,
   "metadata": {},
   "outputs": [],
   "source": [
    "loss.backward()"
   ]
  },
  {
   "cell_type": "code",
   "execution_count": 17,
   "metadata": {},
   "outputs": [],
   "source": [
    "def test(a, b, *, d):\n",
    "    print(a)\n",
    "    print(b)\n",
    "    print(d)"
   ]
  },
  {
   "cell_type": "code",
   "execution_count": 19,
   "metadata": {},
   "outputs": [
    {
     "name": "stdout",
     "output_type": "stream",
     "text": [
      "1\n",
      "2\n",
      "3\n"
     ]
    }
   ],
   "source": [
    "test(1,2,d=3)"
   ]
  },
  {
   "cell_type": "code",
   "execution_count": null,
   "metadata": {},
   "outputs": [],
   "source": []
  }
 ],
 "metadata": {
  "kernelspec": {
   "display_name": "Python 3 (ipykernel)",
   "language": "python",
   "name": "python3"
  },
  "language_info": {
   "codemirror_mode": {
    "name": "ipython",
    "version": 3
   },
   "file_extension": ".py",
   "mimetype": "text/x-python",
   "name": "python",
   "nbconvert_exporter": "python",
   "pygments_lexer": "ipython3",
   "version": "3.10.11"
  }
 },
 "nbformat": 4,
 "nbformat_minor": 2
}
