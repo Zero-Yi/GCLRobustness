{
 "cells": [
  {
   "cell_type": "code",
   "execution_count": 69,
   "id": "32300c62",
   "metadata": {},
   "outputs": [],
   "source": [
    "import torch\n",
    "import torch.nn.functional as F\n",
    "from torch import nn\n",
    "from torch.nn import Sequential, Linear, ReLU, CrossEntropyLoss\n",
    "from torch.optim import Adam\n",
    "from torch.utils.data.dataset import random_split\n",
    "\n",
    "import GCL.augmentors as A\n",
    "import GCL.losses as L\n",
    "from GCL.models import DualBranchContrast\n",
    "\n",
    "from torch_geometric.nn import GINConv, global_add_pool\n",
    "from torch_geometric.loader import DataLoader\n",
    "from torch_geometric.datasets import TUDataset\n",
    "from torch_geometric.utils import dropout_edge, add_random_edge, to_dense_adj\n",
    "\n",
    "from wgin_conv import WGINConv\n",
    "\n",
    "from tqdm import tqdm\n",
    "import itertools\n",
    "import warnings\n",
    "import sys\n",
    "from sklearn.model_selection import StratifiedKFold\n",
    "import numpy as np\n",
    "import os.path as osp"
   ]
  },
  {
   "cell_type": "code",
   "execution_count": 70,
   "id": "1f605e1a",
   "metadata": {},
   "outputs": [
    {
     "name": "stdout",
     "output_type": "stream",
     "text": [
      "The autoreload extension is already loaded. To reload it, use:\n",
      "  %reload_ext autoreload\n"
     ]
    }
   ],
   "source": [
    "%load_ext autoreload\n",
    "%autoreload 2"
   ]
  },
  {
   "cell_type": "code",
   "execution_count": 71,
   "id": "d63897ac",
   "metadata": {},
   "outputs": [
    {
     "name": "stdout",
     "output_type": "stream",
     "text": [
      "cuda:0\n",
      "cuda:0\n",
      "cuda:0\n"
     ]
    }
   ],
   "source": [
    "dataset_name = 'PROTEINS'\n",
    "device = torch.device('cuda')\n",
    "path = osp.join(osp.expanduser('~'), 'datasets')\n",
    "dataset = TUDataset(path, name=dataset_name)\n",
    "one_graph = dataset[0]\n",
    "\n",
    "adj, features, labels = (to_dense_adj(one_graph.edge_index).squeeze().to(device), one_graph.x.to(device), one_graph.y.to(device))\n",
    "print(adj.device)\n",
    "print(features.device)\n",
    "print(labels.device)"
   ]
  },
  {
   "cell_type": "code",
   "execution_count": 72,
   "id": "8d192071",
   "metadata": {},
   "outputs": [
    {
     "name": "stdout",
     "output_type": "stream",
     "text": [
      "======The hyperparams: lr=0.01, num_layers=3, epochs=20. On dataset:PROTEINS======\n"
     ]
    },
    {
     "name": "stderr",
     "output_type": "stream",
     "text": [
      "(T): 100%|███████████████████████████████████████████████████████████████████████████████████████████████████████████████████████████████| 20/20 [00:02<00:00,  8.07it/s, loss=4.96]\n"
     ]
    },
    {
     "name": "stdout",
     "output_type": "stream",
     "text": [
      "(A): clean accuracy=0.7568, adversarial accuracy=0.7027\n"
     ]
    }
   ],
   "source": [
    "# Prepare the victim model\n",
    "from gin import *\n",
    "\n",
    "dataset_name = 'PROTEINS'\n",
    "train_multiple_classifiers = False\n",
    "\n",
    "# Hyperparams\n",
    "lr = 0.01\n",
    "num_layers = 3\n",
    "epochs = 20\n",
    "print(f'======The hyperparams: lr={lr}, num_layers={num_layers}, epochs={epochs}. On dataset:{dataset_name}======')\n",
    "\n",
    "device = torch.device('cuda')\n",
    "path = osp.join(osp.expanduser('~'), 'datasets')\n",
    "dataset = TUDataset(path, name=dataset_name)\n",
    "dataloader = DataLoader(dataset, batch_size=128, shuffle=True)\n",
    "num_features = max(dataset.num_features, 1)\n",
    "num_classes = dataset.num_classes\n",
    "if dataset.num_features==0 :\n",
    "    print(\"No node feature, paddings of 1 will be used in GIN when forwarding.\")\n",
    "\n",
    "\n",
    "best_hyperparams = {'lr': 0.01, 'num_layer': 5, 'hidden_dim': 32, 'dropout': 0.5, 'batch_size': 128}\n",
    "lr, num_layer, hidden_dim, dropout, batch_size = best_hyperparams.values()\n",
    "\n",
    "train_val_set, eval_set = random_split(dataset, [0.9, 0.1])\n",
    "dataloader_train = DataLoader(train_val_set, batch_size=batch_size, shuffle=True) # Use all train+val to train the final model\n",
    "dataloader_eval = DataLoader(eval_set, batch_size=128, shuffle=False) # Do not shuffle the evaluation set to make it reproduceable\n",
    "\n",
    "\n",
    "\n",
    "encoder_model = GIN(num_features=num_features, dim=hidden_dim, num_gc_layers=num_layer, dropout=dropout).to(device)\n",
    "classifier = LogReg(hidden_dim * num_layer, num_classes).to(device)\n",
    "model = GCL_classifier(encoder_model, classifier)\n",
    "optimizer = Adam(model.parameters(), lr=lr)\n",
    "scheduler = StepLR(optimizer, step_size=50, gamma=0.5)\n",
    "\n",
    "# Train the encoder with full dataset without labels using contrastive learning\n",
    "with tqdm(total=epochs, desc='(T)') as pbar:\n",
    "    for epoch in range(1, epochs + 1):\n",
    "        loss = train(model, dataloader_train, optimizer, scheduler)\n",
    "        pbar.set_postfix({'loss': loss})\n",
    "        pbar.update()\n",
    "\n",
    "# Accuracy on the clean evaluation data\n",
    "acc_clean, mask = eval_encoder(model, dataloader_eval)\n",
    "\n",
    "# Instantiate an attacker and attack the victim model\n",
    "attacker = Greedy(pn=0.05)\n",
    "dataloader_eval_adv = attacker.attack(eval_set, mask)\n",
    "\n",
    "# Accuracy on the adversarial data only\n",
    "acc_adv_only, _ = eval_encoder(model, dataloader_eval_adv)\n",
    "\n",
    "# Overall adversarial accuracy\n",
    "acc_adv = acc_clean * acc_adv_only # T/all * Tadv/T = Tadv/all\n",
    "\n",
    "print(f'(A): clean accuracy={acc_clean:.4f}, adversarial accuracy={acc_adv:.4f}')\n"
   ]
  },
  {
   "cell_type": "code",
   "execution_count": 110,
   "id": "3498c846",
   "metadata": {},
   "outputs": [],
   "source": [
    "import torch_geometric\n",
    "from attacker.PGD import PGDAttack"
   ]
  },
  {
   "cell_type": "code",
   "execution_count": 111,
   "id": "d599460d",
   "metadata": {},
   "outputs": [],
   "source": [
    "attacker = PGDAttack(surrogate=model, device=device)"
   ]
  },
  {
   "cell_type": "code",
   "execution_count": 112,
   "id": "f08ffc7d",
   "metadata": {},
   "outputs": [
    {
     "data": {
      "text/plain": [
       "Data(edge_index=[2, 162], x=[42, 3], y=[1])"
      ]
     },
     "execution_count": 112,
     "metadata": {},
     "output_type": "execute_result"
    }
   ],
   "source": [
    "one_graph.to(device)"
   ]
  },
  {
   "cell_type": "code",
   "execution_count": 113,
   "id": "6913572f",
   "metadata": {},
   "outputs": [
    {
     "data": {
      "text/plain": [
       "tensor([[-1.4243, -4.9847]], device='cuda:0', grad_fn=<AddmmBackward0>)"
      ]
     },
     "execution_count": 113,
     "metadata": {},
     "output_type": "execute_result"
    }
   ],
   "source": [
    "model(one_graph.x, one_graph.edge_index, one_graph.batch)"
   ]
  },
  {
   "cell_type": "code",
   "execution_count": 114,
   "id": "3e009fa1",
   "metadata": {},
   "outputs": [],
   "source": [
    "fc_edge_index, edge_weight = attacker.preprocess(one_graph.x, one_graph.edge_index)"
   ]
  },
  {
   "cell_type": "code",
   "execution_count": 115,
   "id": "93b7ff50",
   "metadata": {},
   "outputs": [
    {
     "data": {
      "text/plain": [
       "tensor([[ 0,  0,  0,  ..., 41, 41, 41],\n",
       "        [ 1,  2,  3,  ..., 38, 39, 40]], device='cuda:0')"
      ]
     },
     "execution_count": 115,
     "metadata": {},
     "output_type": "execute_result"
    }
   ],
   "source": [
    "fc_edge_index"
   ]
  },
  {
   "cell_type": "code",
   "execution_count": 116,
   "id": "f4497a4d",
   "metadata": {},
   "outputs": [
    {
     "data": {
      "text/plain": [
       "tensor([0., 0., 0.,  ..., 0., 0., 1.], device='cuda:0')"
      ]
     },
     "execution_count": 116,
     "metadata": {},
     "output_type": "execute_result"
    }
   ],
   "source": [
    "edge_weight"
   ]
  },
  {
   "cell_type": "code",
   "execution_count": 117,
   "id": "22201d33",
   "metadata": {},
   "outputs": [
    {
     "data": {
      "text/plain": [
       "tensor([[-1.4243, -4.9847]], device='cuda:0', grad_fn=<AddmmBackward0>)"
      ]
     },
     "execution_count": 117,
     "metadata": {},
     "output_type": "execute_result"
    }
   ],
   "source": [
    "model(one_graph.x, fc_edge_index, one_graph.batch, edge_weight=edge_weight)"
   ]
  },
  {
   "cell_type": "code",
   "execution_count": 127,
   "id": "c34abfa4",
   "metadata": {},
   "outputs": [
    {
     "name": "stdout",
     "output_type": "stream",
     "text": [
      "0.028030570596456528\n"
     ]
    }
   ],
   "source": [
    "logit = model(one_graph.x, fc_edge_index, one_graph.batch, edge_weight=edge_weight)\n",
    "loss = F.cross_entropy(logit, one_graph.y)\n",
    "print(loss.item())"
   ]
  },
  {
   "cell_type": "markdown",
   "id": "33a721ae",
   "metadata": {},
   "source": [
    "### 上面已经成功地进行了改造，接下来求取对于edge_weight的梯度"
   ]
  },
  {
   "cell_type": "code",
   "execution_count": 120,
   "id": "05cbdf6a",
   "metadata": {},
   "outputs": [],
   "source": [
    "modified_weight = attacker.get_modified_weight()\n",
    "logit = model(one_graph.x, fc_edge_index, one_graph.batch, edge_weight=modified_weight)\n",
    "loss = F.cross_entropy(logit, one_graph.y)\n",
    "\n",
    "loss.backward() # Calculate the gradient"
   ]
  },
  {
   "cell_type": "code",
   "execution_count": 121,
   "id": "6a5b0c38",
   "metadata": {},
   "outputs": [
    {
     "data": {
      "text/plain": [
       "tensor([0., 0., 0., 0., 0., 0., 0., 0., 0., 0., 0., 0., 0., 0., 0., 0., 0., 0., 0., 0., 0., 0., 0., 0.,\n",
       "        0., 0., 0., 0., 0., 0., 0., 0., 0., 0., 0., 0., 0., 0., 0., 0., 0., 0., 0., 0., 0., 0., 0., 0.,\n",
       "        0., 0., 0., 0., 0., 0., 0., 0., 0., 0., 0., 0., 0., 0., 0., 0., 0., 0., 0., 0., 0., 0., 0., 0.,\n",
       "        0., 0., 0., 0., 0., 0., 0., 0., 0., 0., 0., 0., 0., 0., 0., 0., 0., 0., 0., 0., 0., 0., 0., 0.,\n",
       "        0., 0., 0., 0., 0., 0., 0., 0., 0., 0., 0., 0., 0., 0., 0., 0., 0., 0., 0., 0., 0., 0., 0., 0.,\n",
       "        0., 0., 0., 0., 0., 0., 0., 0., 0., 0., 0., 0., 0., 0., 0., 0., 0., 0., 0., 0., 0., 0., 0., 0.,\n",
       "        0., 0., 0., 0., 0., 0., 0., 0., 0., 0., 0., 0., 0., 0., 0., 0., 0., 0., 0., 0., 0., 0., 0., 0.,\n",
       "        0., 0., 0., 0., 0., 0., 0., 0., 0., 0., 0., 0., 0., 0., 0., 0., 0., 0., 0., 0., 0., 0., 0., 0.,\n",
       "        0., 0., 0., 0., 0., 0., 0., 0., 0., 0., 0., 0., 0., 0., 0., 0., 0., 0., 0., 0., 0., 0., 0., 0.,\n",
       "        0., 0., 0., 0., 0., 0., 0., 0., 0., 0., 0., 0., 0., 0., 0., 0., 0., 0., 0., 0., 0., 0., 0., 0.,\n",
       "        0., 0., 0., 0., 0., 0., 0., 0., 0., 0., 0., 0., 0., 0., 0., 0., 0., 0., 0., 0., 0., 0., 0., 0.,\n",
       "        0., 0., 0., 0., 0., 0., 0., 0., 0., 0., 0., 0., 0., 0., 0., 0., 0., 0., 0., 0., 0., 0., 0., 0.,\n",
       "        0., 0., 0., 0., 0., 0., 0., 0., 0., 0., 0., 0., 0., 0., 0., 0., 0., 0., 0., 0., 0., 0., 0., 0.,\n",
       "        0., 0., 0., 0., 0., 0., 0., 0., 0., 0., 0., 0., 0., 0., 0., 0., 0., 0., 0., 0., 0., 0., 0., 0.,\n",
       "        0., 0., 0., 0., 0., 0., 0., 0., 0., 0., 0., 0., 0., 0., 0., 0., 0., 0., 0., 0., 0., 0., 0., 0.,\n",
       "        0., 0., 0., 0., 0., 0., 0., 0., 0., 0., 0., 0., 0., 0., 0., 0., 0., 0., 0., 0., 0., 0., 0., 0.,\n",
       "        0., 0., 0., 0., 0., 0., 0., 0., 0., 0., 0., 0., 0., 0., 0., 0., 0., 0., 0., 0., 0., 0., 0., 0.,\n",
       "        0., 0., 0., 0., 0., 0., 0., 0., 0., 0., 0., 0., 0., 0., 0., 0., 0., 0., 0., 0., 0., 0., 0., 0.,\n",
       "        0., 0., 0., 0., 0., 0., 0., 0., 0., 0., 0., 0., 0., 0., 0., 0., 0., 0., 0., 0., 0., 0., 0., 0.,\n",
       "        0., 0., 0., 0., 0., 0., 0., 0., 0., 0., 0., 0., 0., 0., 0., 0., 0., 0., 0., 0., 0., 0., 0., 0.,\n",
       "        0., 0., 0., 0., 0., 0., 0., 0., 0., 0., 0., 0., 0., 0., 0., 0., 0., 0., 0., 0., 0., 0., 0., 0.,\n",
       "        0., 0., 0., 0., 0., 0., 0., 0., 0., 0., 0., 0., 0., 0., 0., 0., 0., 0., 0., 0., 0., 0., 0., 0.,\n",
       "        0., 0., 0., 0., 0., 0., 0., 0., 0., 0., 0., 0., 0., 0., 0., 0., 0., 0., 0., 0., 0., 0., 0., 0.,\n",
       "        0., 0., 0., 0., 0., 0., 0., 0., 0., 0., 0., 0., 0., 0., 0., 0., 0., 0., 0., 0., 0., 0., 0., 0.,\n",
       "        0., 0., 0., 0., 0., 0., 0., 0., 0., 0., 0., 0., 0., 0., 0., 0., 0., 0., 0., 0., 0., 0., 0., 0.,\n",
       "        0., 0., 0., 0., 0., 0., 0., 0., 0., 0., 0., 0., 0., 0., 0., 0., 0., 0., 0., 0., 0., 0., 0., 0.,\n",
       "        0., 0., 0., 0., 0., 0., 0., 0., 0., 0., 0., 0., 0., 0., 0., 0., 0., 0., 0., 0., 0., 0., 0., 0.,\n",
       "        0., 0., 0., 0., 0., 0., 0., 0., 0., 0., 0., 0., 0., 0., 0., 0., 0., 0., 0., 0., 0., 0., 0., 0.,\n",
       "        0., 0., 0., 0., 0., 0., 0., 0., 0., 0., 0., 0., 0., 0., 0., 0., 0., 0., 0., 0., 0., 0., 0., 0.,\n",
       "        0., 0., 0., 0., 0., 0., 0., 0., 0., 0., 0., 0., 0., 0., 0., 0., 0., 0., 0., 0., 0., 0., 0., 0.,\n",
       "        0., 0., 0., 0., 0., 0., 0., 0., 0., 0., 0., 0., 0., 0., 0., 0., 0., 0., 0., 0., 0., 0., 0., 0.,\n",
       "        0., 0., 0., 0., 0., 0., 0., 0., 0., 0., 0., 0., 0., 0., 0., 0., 0., 0., 0., 0., 0., 0., 0., 0.,\n",
       "        0., 0., 0., 0., 0., 0., 0., 0., 0., 0., 0., 0., 0., 0., 0., 0., 0., 0., 0., 0., 0., 0., 0., 0.,\n",
       "        0., 0., 0., 0., 0., 0., 0., 0., 0., 0., 0., 0., 0., 0., 0., 0., 0., 0., 0., 0., 0., 0., 0., 0.,\n",
       "        0., 0., 0., 0., 0., 0., 0., 0., 0., 0., 0., 0., 0., 0., 0., 0., 0., 0., 0., 0., 0., 0., 0., 0.,\n",
       "        0., 0., 0., 0., 0., 0., 0., 0., 0., 0., 0., 0., 0., 0., 0., 0., 0., 0., 0., 0., 0.],\n",
       "       device='cuda:0')"
      ]
     },
     "execution_count": 121,
     "metadata": {},
     "output_type": "execute_result"
    }
   ],
   "source": [
    "t = 1\n",
    "lr_weight = 200 / np.sqrt(t+1)\n",
    "attacker.adj_changes.data.add_(lr_weight * attacker.adj_changes.grad) # Update the edge weight\n",
    "\n",
    "attacker.adj_changes.grad.zero_() # Clear the gradient"
   ]
  },
  {
   "cell_type": "code",
   "execution_count": 125,
   "id": "d773639c",
   "metadata": {},
   "outputs": [
    {
     "name": "stderr",
     "output_type": "stream",
     "text": [
      "100%|█████████████████████████████████████████████████████████████████████████████████████████████████████████████████████████████████████████████| 200/200 [00:02<00:00, 72.49it/s]\n"
     ]
    }
   ],
   "source": [
    "n_perturbations = int(one_graph.x.shape[0] * 0.05)\n",
    "fc_edge_index, modified_weight, adv_edge_index = attacker.attack(one_graph.x, one_graph.edge_index, one_graph.batch, one_graph.y, n_perturbations)"
   ]
  },
  {
   "cell_type": "code",
   "execution_count": 126,
   "id": "f8ad3a15",
   "metadata": {},
   "outputs": [
    {
     "data": {
      "text/plain": [
       "torch.Size([2, 166])"
      ]
     },
     "execution_count": 126,
     "metadata": {},
     "output_type": "execute_result"
    }
   ],
   "source": [
    "adv_edge_index.shape"
   ]
  },
  {
   "cell_type": "code",
   "execution_count": 66,
   "id": "f8471c77",
   "metadata": {},
   "outputs": [
    {
     "data": {
      "text/plain": [
       "tensor([ 0.3585, -1.7292,  0.0392,  0.3737,  1.4137,  0.4494,  0.1799, -1.1697,\n",
       "        -0.5752,  0.0209], device='cuda:0', grad_fn=<SliceBackward0>)"
      ]
     },
     "execution_count": 66,
     "metadata": {},
     "output_type": "execute_result"
    }
   ],
   "source": [
    "logit = model(one_graph.x, adv_edge_index, one_graph.batch, edge_weight=edge_weight)\n",
    "loss = F.cross_entropy(logit, one_graph.y)\n",
    "print(loss.item())"
   ]
  },
  {
   "cell_type": "code",
   "execution_count": 35,
   "id": "75149676",
   "metadata": {},
   "outputs": [],
   "source": []
  },
  {
   "cell_type": "code",
   "execution_count": 37,
   "id": "96a44527",
   "metadata": {},
   "outputs": [
    {
     "name": "stdout",
     "output_type": "stream",
     "text": [
      "tensor(487.7718, device='cuda:0', grad_fn=<SumBackward0>)\n",
      "tensor([ 0.1794,  2.4096,  2.4096,  ...,  0.4122, -3.4796, -2.2564],\n",
      "       device='cuda:0', requires_grad=True)\n"
     ]
    }
   ],
   "source": []
  },
  {
   "cell_type": "code",
   "execution_count": 38,
   "id": "aeb58534",
   "metadata": {},
   "outputs": [],
   "source": [
    "def bisection(a, b, n_perturbations, epsilon):\n",
    "    def func(x):\n",
    "        return torch.clamp(self.adj_changes-x, 0, 1).sum() - n_perturbations\n",
    "\n",
    "    miu = a\n",
    "    while ((b-a) >= epsilon):\n",
    "        miu = (a+b)/2\n",
    "        # Check if middle point is root\n",
    "        if (func(miu) == 0.0):\n",
    "            break\n",
    "        # Decide the side to repeat the steps\n",
    "        if (func(miu)*func(a) < 0):\n",
    "            b = miu\n",
    "        else:\n",
    "            a = miu\n",
    "    # print(\"The value of root is : \",\"%.4f\" % miu)\n",
    "    return miu\n",
    "\n",
    "# Do the projection\n",
    "def projection(edge_weight, n_perturbations):\n",
    "    # projected = torch.clamp(self.adj_changes, 0, 1)\n",
    "    if torch.clamp(edge_weight, 0, 1).sum() > n_perturbations:\n",
    "        left = (edge_weight - 1).min()\n",
    "        right = edge_weight.max()\n",
    "        miu = self.bisection(left, right, n_perturbations, epsilon=1e-5)\n",
    "        edge_weight.data.copy_(torch.clamp(edge_weight.data - miu, min=0, max=1))\n",
    "    else:\n",
    "        edge_weight.data.copy_(torch.clamp(edge_weight.data, min=0, max=1))\n",
    "        \n"
   ]
  },
  {
   "cell_type": "code",
   "execution_count": 39,
   "id": "5f0d3e14",
   "metadata": {},
   "outputs": [
    {
     "ename": "NameError",
     "evalue": "name 'self' is not defined",
     "output_type": "error",
     "traceback": [
      "\u001b[0;31m---------------------------------------------------------------------------\u001b[0m",
      "\u001b[0;31mNameError\u001b[0m                                 Traceback (most recent call last)",
      "Cell \u001b[0;32mIn[39], line 2\u001b[0m\n\u001b[1;32m      1\u001b[0m n_perturbations \u001b[38;5;241m=\u001b[39m \u001b[38;5;28mint\u001b[39m(one_graph\u001b[38;5;241m.\u001b[39mx\u001b[38;5;241m.\u001b[39mshape[\u001b[38;5;241m0\u001b[39m] \u001b[38;5;241m*\u001b[39m \u001b[38;5;241m0.05\u001b[39m)\n\u001b[0;32m----> 2\u001b[0m \u001b[43mprojection\u001b[49m\u001b[43m(\u001b[49m\u001b[43medge_weight\u001b[49m\u001b[43m,\u001b[49m\u001b[43m \u001b[49m\u001b[43mn_perturbations\u001b[49m\u001b[43m)\u001b[49m\n",
      "Cell \u001b[0;32mIn[38], line 7\u001b[0m, in \u001b[0;36mprojection\u001b[0;34m(edge_weight, n_perturbations)\u001b[0m\n\u001b[1;32m      5\u001b[0m     left \u001b[38;5;241m=\u001b[39m (edge_weight \u001b[38;5;241m-\u001b[39m \u001b[38;5;241m1\u001b[39m)\u001b[38;5;241m.\u001b[39mmin()\n\u001b[1;32m      6\u001b[0m     right \u001b[38;5;241m=\u001b[39m edge_weight\u001b[38;5;241m.\u001b[39mmax()\n\u001b[0;32m----> 7\u001b[0m     miu \u001b[38;5;241m=\u001b[39m \u001b[38;5;28;43mself\u001b[39;49m\u001b[38;5;241m.\u001b[39mbisection(left, right, n_perturbations, epsilon\u001b[38;5;241m=\u001b[39m\u001b[38;5;241m1e-5\u001b[39m)\n\u001b[1;32m      8\u001b[0m     edge_weight\u001b[38;5;241m.\u001b[39mdata\u001b[38;5;241m.\u001b[39mcopy_(torch\u001b[38;5;241m.\u001b[39mclamp(edge_weight\u001b[38;5;241m.\u001b[39mdata \u001b[38;5;241m-\u001b[39m miu, \u001b[38;5;28mmin\u001b[39m\u001b[38;5;241m=\u001b[39m\u001b[38;5;241m0\u001b[39m, \u001b[38;5;28mmax\u001b[39m\u001b[38;5;241m=\u001b[39m\u001b[38;5;241m1\u001b[39m))\n\u001b[1;32m      9\u001b[0m \u001b[38;5;28;01melse\u001b[39;00m:\n",
      "\u001b[0;31mNameError\u001b[0m: name 'self' is not defined"
     ]
    }
   ],
   "source": [
    "n_perturbations = int(one_graph.x.shape[0] * 0.05)\n",
    "projection(edge_weight, n_perturbations)"
   ]
  },
  {
   "cell_type": "markdown",
   "id": "c532b6b7",
   "metadata": {},
   "source": [
    "出现了一个非常奇怪的现象。一旦加入了edge_weight之后，就会出现‘RuntimeError: mat1 and mat2 must have the same dtype’。但是如果把out的形状打出来，就会发现明明没有变过，和把edge_weight=None是一样的。不能理解这个问题出现的原因。"
   ]
  },
  {
   "cell_type": "code",
   "execution_count": 31,
   "id": "3adb5336",
   "metadata": {},
   "outputs": [],
   "source": [
    "# Do the attack\n",
    "from attacker.PGD import PGDAttack\n",
    "\n",
    "attacker = PGDAttack(model=encoder_classifier, nnodes=adj.shape[0], loss_type='CE', device=device).to(device)"
   ]
  },
  {
   "cell_type": "code",
   "execution_count": 28,
   "id": "88777c93",
   "metadata": {},
   "outputs": [
    {
     "data": {
      "text/plain": [
       "tensor([[0., 0., 0.,  ..., 0., 0., 0.],\n",
       "        [0., 0., 0.,  ..., 0., 0., 1.],\n",
       "        [0., 0., 0.,  ..., 0., 0., 0.],\n",
       "        ...,\n",
       "        [0., 0., 0.,  ..., 0., 0., 0.],\n",
       "        [0., 0., 0.,  ..., 0., 0., 1.],\n",
       "        [0., 1., 0.,  ..., 0., 1., 0.]], device='cuda:0')"
      ]
     },
     "execution_count": 28,
     "metadata": {},
     "output_type": "execute_result"
    }
   ],
   "source": [
    "adj"
   ]
  },
  {
   "cell_type": "code",
   "execution_count": 62,
   "id": "ed64a5f9",
   "metadata": {},
   "outputs": [
    {
     "data": {
      "text/plain": [
       "array([2., 3., 4., 6., 7., 8.])"
      ]
     },
     "execution_count": 62,
     "metadata": {},
     "output_type": "execute_result"
    }
   ],
   "source": [
    "a = np.linspace(1,9,9).reshape((3,3))\n",
    "a[~np.eye(3,dtype=bool)]"
   ]
  },
  {
   "cell_type": "code",
   "execution_count": 64,
   "id": "882df420",
   "metadata": {},
   "outputs": [
    {
     "data": {
      "text/plain": [
       "tensor([2, 3, 4, 6, 7, 8])"
      ]
     },
     "execution_count": 64,
     "metadata": {},
     "output_type": "execute_result"
    }
   ],
   "source": [
    "matrix = torch.tensor([[1, 2, 3],\n",
    "                       [4, 5, 6],\n",
    "                       [7, 8, 9]])\n",
    "matrix[~torch.eye(3,dtype=bool)]"
   ]
  },
  {
   "cell_type": "code",
   "execution_count": 68,
   "id": "5f58a69c",
   "metadata": {},
   "outputs": [
    {
     "data": {
      "text/plain": [
       "tensor([[0, 0, 1],\n",
       "        [1, 2, 2]])"
      ]
     },
     "execution_count": 68,
     "metadata": {},
     "output_type": "execute_result"
    }
   ],
   "source": [
    "nnodes=3\n",
    "torch.triu_indices(row=nnodes, col=nnodes, offset=1)"
   ]
  },
  {
   "cell_type": "code",
   "execution_count": null,
   "id": "9f28e501",
   "metadata": {},
   "outputs": [],
   "source": []
  }
 ],
 "metadata": {
  "kernelspec": {
   "display_name": "Python 3 (ipykernel)",
   "language": "python",
   "name": "python3"
  },
  "language_info": {
   "codemirror_mode": {
    "name": "ipython",
    "version": 3
   },
   "file_extension": ".py",
   "mimetype": "text/x-python",
   "name": "python",
   "nbconvert_exporter": "python",
   "pygments_lexer": "ipython3",
   "version": "3.10.11"
  }
 },
 "nbformat": 4,
 "nbformat_minor": 5
}
