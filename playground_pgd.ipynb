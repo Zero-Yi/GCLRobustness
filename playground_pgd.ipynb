{
 "cells": [
  {
   "cell_type": "code",
   "execution_count": 2,
   "id": "32300c62",
   "metadata": {},
   "outputs": [],
   "source": [
    "import torch\n",
    "import torch.nn.functional as F\n",
    "from torch import nn\n",
    "from torch.nn import Sequential, Linear, ReLU, CrossEntropyLoss\n",
    "from torch.optim import Adam\n",
    "from torch.utils.data.dataset import random_split\n",
    "\n",
    "import GCL.augmentors as A\n",
    "import GCL.losses as L\n",
    "from GCL.models import DualBranchContrast\n",
    "\n",
    "from torch_geometric.nn import GINConv, global_add_pool, summary\n",
    "from torch_geometric.loader import DataLoader\n",
    "from torch_geometric.datasets import TUDataset\n",
    "from torch_geometric.contrib.nn import PRBCDAttack\n",
    "\n",
    "from tqdm import tqdm\n",
    "import itertools\n",
    "import warnings\n",
    "import sys\n",
    "from sklearn.model_selection import StratifiedKFold\n",
    "import numpy as np\n",
    "import os.path as osp\n",
    "import argparse\n",
    "\n",
    "from attacker.greedy import Greedy\n",
    "from attacker.PGD import PGDAttack\n",
    "from wgin_conv import WGINConv\n",
    "\n",
    "from gin import GIN, LogReg, GCL_classifier, eval_encoder\n",
    "from MyGCL import Encoder, train, train_classifier"
   ]
  },
  {
   "cell_type": "code",
   "execution_count": 3,
   "id": "1f605e1a",
   "metadata": {},
   "outputs": [],
   "source": [
    "%load_ext autoreload\n",
    "%autoreload 2"
   ]
  },
  {
   "cell_type": "code",
   "execution_count": null,
   "id": "0e346013",
   "metadata": {},
   "outputs": [],
   "source": [
    "clean = [0.7990, 0.7790, 0.8180, 0.7790, 0.7240]\n",
    "greedy = [0.7380, 0.6800, 0.7150, 0.6670, 0.6530]\n",
    "PRBCD = [0.3980, 0.3950, 0.3910, 0.3430, 0.3230]"
   ]
  },
  {
   "cell_type": "code",
   "execution_count": 3,
   "id": "d63897ac",
   "metadata": {},
   "outputs": [
    {
     "name": "stderr",
     "output_type": "stream",
     "text": [
      "(T):   0%|                                                                                                                                       | 0/20 [00:00<?, ?it/s]/nfs/homedirs/yzi/miniconda3/envs/lsml_new/lib/python3.10/site-packages/torch_geometric/deprecation.py:22: UserWarning: 'dropout_adj' is deprecated, use 'dropout_edge' instead\n",
      "  warnings.warn(out)\n",
      "(T): 100%|███████████████████████████████████████████████████████████████████████████████████████████████████████████████████| 20/20 [00:06<00:00,  3.27it/s, loss=13.7]\n"
     ]
    }
   ],
   "source": [
    "# Hyperparams\n",
    "lr = 0.01\n",
    "num_layers = 3\n",
    "epochs = 20\n",
    "seed = 42\n",
    "\n",
    "device = torch.device('cuda')\n",
    "path = osp.join(osp.expanduser('~'), 'datasets')\n",
    "dataset = TUDataset(path, name='PROTEINS')\n",
    "dataloader = DataLoader(dataset, batch_size=128, shuffle=True)\n",
    "num_features = max(dataset.num_features, 1)\n",
    "num_classes = dataset.num_classes\n",
    "if dataset.num_features==0 :\n",
    "    print(\"No node feature, paddings of 1 will be used in GIN when forwarding.\")\n",
    "\n",
    "aug1 = A.Identity()\n",
    "aug2 = A.RandomChoice([A.RWSampling(num_seeds=1000, walk_length=86),\n",
    "                       A.EdgeRemoving(pe=0.2),\n",
    "                       A.NodeDropping(pn=0.2)], 1)\n",
    "\n",
    "# The graph neural network backbone model to use\n",
    "torch.manual_seed(seed) # set seed for the reproducibility\n",
    "gconv = GIN(num_features=num_features, dim=32, num_gc_layers=num_layers, device=device).to(device)\n",
    "torch.manual_seed(seed) # set seed for the reproducibility\n",
    "encoder_model = Encoder(encoder=gconv, augmentor=(aug1, aug2)).to(device)\n",
    "torch.manual_seed(seed) # set seed for the reproducibility\n",
    "contrast_model = DualBranchContrast(loss=L.InfoNCE(tau=0.2), mode='G2G').to(device)\n",
    "optimizer = Adam(encoder_model.parameters(), lr=lr)\n",
    "\n",
    "# Train the encoder with full dataset without labels using contrastive learning\n",
    "with tqdm(total=20, desc='(T)') as pbar:\n",
    "    for epoch in range(1, epochs + 1):\n",
    "        loss = train(encoder_model, contrast_model, dataloader, optimizer)\n",
    "        pbar.set_postfix({'loss': loss})\n",
    "        pbar.update()"
   ]
  },
  {
   "cell_type": "code",
   "execution_count": 4,
   "id": "8d192071",
   "metadata": {},
   "outputs": [
    {
     "data": {
      "text/plain": [
       "GCL_classifier(\n",
       "  (encoder): GIN(\n",
       "    (convs): ModuleList(\n",
       "      (0): WGINConv(nn=Sequential(\n",
       "        (0): Linear(in_features=3, out_features=32, bias=True)\n",
       "        (1): ReLU()\n",
       "        (2): Linear(in_features=32, out_features=32, bias=True)\n",
       "      ))\n",
       "      (1-2): 2 x WGINConv(nn=Sequential(\n",
       "        (0): Linear(in_features=32, out_features=32, bias=True)\n",
       "        (1): ReLU()\n",
       "        (2): Linear(in_features=32, out_features=32, bias=True)\n",
       "      ))\n",
       "    )\n",
       "    (bns): ModuleList(\n",
       "      (0-2): 3 x BatchNorm1d(32, eps=1e-05, momentum=0.1, affine=True, track_running_stats=True)\n",
       "    )\n",
       "    (project): Sequential(\n",
       "      (0): Linear(in_features=96, out_features=96, bias=True)\n",
       "      (1): ReLU(inplace=True)\n",
       "      (2): Linear(in_features=96, out_features=96, bias=True)\n",
       "    )\n",
       "  )\n",
       "  (classifier): LogReg(\n",
       "    (fc): Linear(in_features=96, out_features=2, bias=True)\n",
       "  )\n",
       ")"
      ]
     },
     "execution_count": 4,
     "metadata": {},
     "output_type": "execute_result"
    }
   ],
   "source": [
    "# Split the dataset into two part for training classifier and final evaluation, train_set can be further divided into training and validation parts\n",
    "torch.manual_seed(seed) # set seed for the reproducibility\n",
    "train_set, eval_set = random_split(dataset, [0.9, 0.1])\n",
    "dataloader_train = DataLoader(train_set, batch_size=128, shuffle=True)\n",
    "dataloader_eval = DataLoader(eval_set, batch_size=128, shuffle=False) # Do not shuffle the evaluation set to make it reproduceable\n",
    "\n",
    "# Get embeddings for the train_set\n",
    "encoder_model.eval()\n",
    "embedding_global, y = encoder_model.encoder.get_embeddings(dataloader_train)\n",
    "\n",
    "# ====== Train one classifier and do attack =====================================\n",
    "classifier = train_classifier(embedding_global, y, num_classse=num_classes)\n",
    "\n",
    "# Put encoder and classifier together, drop the augmentor\n",
    "encoder_classifier = GCL_classifier(encoder_model.encoder, classifier)\n",
    "\n",
    "encoder_classifier.eval() # Try to save memory\n",
    "encoder_classifier.requires_grad_(False) # Try to save memory"
   ]
  },
  {
   "cell_type": "code",
   "execution_count": 38,
   "id": "4ea56df8",
   "metadata": {},
   "outputs": [],
   "source": [
    "from attacker.PRBCD import MyPRBCDAttack as PRBCDAttack\n"
   ]
  },
  {
   "cell_type": "code",
   "execution_count": 42,
   "id": "933abb1a",
   "metadata": {},
   "outputs": [],
   "source": [
    "torch.manual_seed(42) # Fix the seed to do fair comparation\n",
    "prbcd = PRBCDAttack(encoder_classifier, block_size=250_000, lr=2_000, log=False)"
   ]
  },
  {
   "cell_type": "code",
   "execution_count": 43,
   "id": "3498c846",
   "metadata": {},
   "outputs": [
    {
     "name": "stderr",
     "output_type": "stream",
     "text": [
      "100%|███████████████████████████████████████████████████████████████████████████████████████████████████████████████████████████████████| 76/76 [02:54<00:00,  2.30s/it]\n"
     ]
    },
    {
     "ename": "NameError",
     "evalue": "name 'dataloader_eval_adv_PGD' is not defined",
     "output_type": "error",
     "traceback": [
      "\u001b[0;31m---------------------------------------------------------------------------\u001b[0m",
      "\u001b[0;31mNameError\u001b[0m                                 Traceback (most recent call last)",
      "Cell \u001b[0;32mIn[43], line 7\u001b[0m\n\u001b[1;32m      4\u001b[0m dataloader_eval_adv \u001b[38;5;241m=\u001b[39m prbcd\u001b[38;5;241m.\u001b[39mattack(eval_set, mask, attack_ratio\u001b[38;5;241m=\u001b[39m\u001b[38;5;241m0.05\u001b[39m)\n\u001b[1;32m      6\u001b[0m \u001b[38;5;66;03m# Accuracy on the adversarial data only\u001b[39;00m\n\u001b[0;32m----> 7\u001b[0m acc_adv_only_PGD, _ \u001b[38;5;241m=\u001b[39m eval_encoder(encoder_classifier, \u001b[43mdataloader_eval_adv_PGD\u001b[49m)\n\u001b[1;32m      9\u001b[0m \u001b[38;5;66;03m# Overall adversarial accuracy\u001b[39;00m\n\u001b[1;32m     10\u001b[0m acc_adv_PGD \u001b[38;5;241m=\u001b[39m acc_clean \u001b[38;5;241m*\u001b[39m acc_adv_only_PGD \u001b[38;5;66;03m# T/all * Tadv/T = Tadv/all\u001b[39;00m\n",
      "\u001b[0;31mNameError\u001b[0m: name 'dataloader_eval_adv_PGD' is not defined"
     ]
    }
   ],
   "source": [
    "# Accuracy on the clean evaluation data\n",
    "acc_clean, mask = eval_encoder(encoder_classifier, dataloader_eval)\n",
    "\n",
    "dataloader_eval_adv = prbcd.attack(eval_set, mask, attack_ratio=0.05)\n",
    "\n",
    "# Accuracy on the adversarial data only\n",
    "acc_adv_only_PGD, _ = eval_encoder(encoder_classifier, dataloader_eval_adv)\n",
    "\n",
    "# Overall adversarial accuracy\n",
    "acc_adv_PGD = acc_clean * acc_adv_only_PGD # T/all * Tadv/T = Tadv/all"
   ]
  },
  {
   "cell_type": "code",
   "execution_count": 45,
   "id": "d599460d",
   "metadata": {},
   "outputs": [
    {
     "name": "stdout",
     "output_type": "stream",
     "text": [
      "tensor(0.6847, device='cuda:0') tensor(0.2523, device='cuda:0')\n"
     ]
    }
   ],
   "source": [
    "print(acc_clean, acc_adv_PGD)"
   ]
  },
  {
   "cell_type": "code",
   "execution_count": 47,
   "id": "f08ffc7d",
   "metadata": {},
   "outputs": [
    {
     "data": {
      "text/plain": [
       "False"
      ]
     },
     "execution_count": 47,
     "metadata": {},
     "output_type": "execute_result"
    }
   ],
   "source": [
    "log = 1\n",
    "verbose = True if log==2 else False\n",
    "verbose"
   ]
  },
  {
   "cell_type": "code",
   "execution_count": 8,
   "id": "6913572f",
   "metadata": {},
   "outputs": [
    {
     "data": {
      "text/plain": [
       "tensor([[-0.9111, -3.5493]], device='cuda:0', grad_fn=<AddmmBackward0>)"
      ]
     },
     "execution_count": 8,
     "metadata": {},
     "output_type": "execute_result"
    }
   ],
   "source": [
    "model(one_graph.x, one_graph.edge_index, one_graph.batch)"
   ]
  },
  {
   "cell_type": "code",
   "execution_count": 9,
   "id": "3e009fa1",
   "metadata": {},
   "outputs": [],
   "source": [
    "fc_edge_index, edge_weight = attacker.preprocess(one_graph.x, one_graph.edge_index)"
   ]
  },
  {
   "cell_type": "code",
   "execution_count": 10,
   "id": "93b7ff50",
   "metadata": {},
   "outputs": [
    {
     "data": {
      "text/plain": [
       "tensor([[ 0,  0,  0,  ..., 41, 41, 41],\n",
       "        [ 1,  2,  3,  ..., 38, 39, 40]], device='cuda:0')"
      ]
     },
     "execution_count": 10,
     "metadata": {},
     "output_type": "execute_result"
    }
   ],
   "source": [
    "fc_edge_index"
   ]
  },
  {
   "cell_type": "code",
   "execution_count": 11,
   "id": "f4497a4d",
   "metadata": {},
   "outputs": [
    {
     "data": {
      "text/plain": [
       "tensor([0., 0., 0.,  ..., 0., 0., 1.], device='cuda:0')"
      ]
     },
     "execution_count": 11,
     "metadata": {},
     "output_type": "execute_result"
    }
   ],
   "source": [
    "edge_weight"
   ]
  },
  {
   "cell_type": "code",
   "execution_count": 12,
   "id": "22201d33",
   "metadata": {},
   "outputs": [
    {
     "data": {
      "text/plain": [
       "tensor([[-0.9111, -3.5493]], device='cuda:0', grad_fn=<AddmmBackward0>)"
      ]
     },
     "execution_count": 12,
     "metadata": {},
     "output_type": "execute_result"
    }
   ],
   "source": [
    "model(one_graph.x, fc_edge_index, one_graph.batch, edge_weight=edge_weight)"
   ]
  },
  {
   "cell_type": "code",
   "execution_count": 13,
   "id": "c34abfa4",
   "metadata": {},
   "outputs": [
    {
     "name": "stdout",
     "output_type": "stream",
     "text": [
      "0.06904802471399307\n"
     ]
    }
   ],
   "source": [
    "logit = model(one_graph.x, fc_edge_index, one_graph.batch, edge_weight=edge_weight)\n",
    "loss = F.cross_entropy(logit, one_graph.y)\n",
    "print(loss.item())"
   ]
  },
  {
   "cell_type": "markdown",
   "id": "33a721ae",
   "metadata": {},
   "source": [
    "### 上面已经成功地进行了改造，接下来求取对于edge_weight的梯度"
   ]
  },
  {
   "cell_type": "code",
   "execution_count": 14,
   "id": "d773639c",
   "metadata": {},
   "outputs": [],
   "source": [
    "n_perturbations = int(one_graph.x.shape[0] * 0.05)\n",
    "fc_edge_index, modified_weight, adv_edge_index = attacker.attack_one_graph(one_graph.x, one_graph.edge_index, one_graph.batch, one_graph.y, n_perturbations)"
   ]
  },
  {
   "cell_type": "code",
   "execution_count": 15,
   "id": "f8ad3a15",
   "metadata": {},
   "outputs": [
    {
     "data": {
      "text/plain": [
       "torch.Size([2, 160])"
      ]
     },
     "execution_count": 15,
     "metadata": {},
     "output_type": "execute_result"
    }
   ],
   "source": [
    "adv_edge_index.shape"
   ]
  },
  {
   "cell_type": "code",
   "execution_count": 16,
   "id": "f8471c77",
   "metadata": {},
   "outputs": [
    {
     "name": "stdout",
     "output_type": "stream",
     "text": [
      "0.14834341406822205\n"
     ]
    }
   ],
   "source": [
    "logit = model(one_graph.x, adv_edge_index, one_graph.batch)\n",
    "loss = F.cross_entropy(logit, one_graph.y)\n",
    "print(loss.item())"
   ]
  },
  {
   "cell_type": "code",
   "execution_count": 17,
   "id": "75149676",
   "metadata": {},
   "outputs": [
    {
     "name": "stdout",
     "output_type": "stream",
     "text": [
      "0.14834341406822205\n"
     ]
    }
   ],
   "source": [
    "logit = model(one_graph.x, fc_edge_index, one_graph.batch, edge_weight=modified_weight)\n",
    "loss = F.cross_entropy(logit, one_graph.y)\n",
    "print(loss.item())"
   ]
  },
  {
   "cell_type": "code",
   "execution_count": 18,
   "id": "96a44527",
   "metadata": {},
   "outputs": [
    {
     "name": "stdout",
     "output_type": "stream",
     "text": [
      "torch.Size([2, 1722])\n",
      "torch.Size([2, 160])\n"
     ]
    }
   ],
   "source": [
    "print(fc_edge_index.shape)\n",
    "print(adv_edge_index.shape)"
   ]
  },
  {
   "cell_type": "markdown",
   "id": "3a544110",
   "metadata": {},
   "source": [
    "### 已经成功实现了PGD，接下来将整个test dataset进行转换"
   ]
  },
  {
   "cell_type": "code",
   "execution_count": 54,
   "id": "caf3506d",
   "metadata": {},
   "outputs": [],
   "source": [
    "from torch_geometric.data import Data"
   ]
  },
  {
   "cell_type": "code",
   "execution_count": 55,
   "id": "42b0e75d",
   "metadata": {},
   "outputs": [],
   "source": [
    "attacker = PGDAttack(surrogate=model, device=device)\n",
    "attack_ratio = 0.05"
   ]
  },
  {
   "cell_type": "code",
   "execution_count": 56,
   "id": "5f0d3e14",
   "metadata": {},
   "outputs": [],
   "source": [
    "dataset_eval = dataset[eval_set.indices]"
   ]
  },
  {
   "cell_type": "code",
   "execution_count": 57,
   "id": "1062077d",
   "metadata": {},
   "outputs": [
    {
     "data": {
      "text/plain": [
       "Data(edge_index=[2, 286], x=[77, 3], y=[1])"
      ]
     },
     "execution_count": 57,
     "metadata": {},
     "output_type": "execute_result"
    }
   ],
   "source": [
    "onegraph = dataset_eval[0]\n",
    "onegraph"
   ]
  },
  {
   "cell_type": "code",
   "execution_count": 52,
   "id": "3adb5336",
   "metadata": {},
   "outputs": [
    {
     "name": "stderr",
     "output_type": "stream",
     "text": [
      "  1%|█▍                                                                                                                                                         | 1/111 [00:02<04:51,  2.65s/it]"
     ]
    },
    {
     "name": "stdout",
     "output_type": "stream",
     "text": [
      "[Warning]: Max iteration during bisection\n"
     ]
    },
    {
     "name": "stderr",
     "output_type": "stream",
     "text": [
      " 12%|██████████████████                                                                                                                                        | 13/111 [00:33<04:05,  2.50s/it]"
     ]
    },
    {
     "name": "stdout",
     "output_type": "stream",
     "text": [
      "[Warning]: Max iteration during bisection\n",
      "[Warning]: Max iteration during bisection\n",
      "[Warning]: Max iteration during bisection\n",
      "[Warning]: Max iteration during bisection\n"
     ]
    },
    {
     "name": "stderr",
     "output_type": "stream",
     "text": [
      " 14%|████████████████████▊                                                                                                                                     | 15/111 [00:45<06:25,  4.02s/it]"
     ]
    },
    {
     "name": "stdout",
     "output_type": "stream",
     "text": [
      "[Warning]: Max iteration during bisection\n"
     ]
    },
    {
     "name": "stderr",
     "output_type": "stream",
     "text": [
      " 19%|█████████████████████████████▏                                                                                                                            | 21/111 [01:02<04:08,  2.76s/it]"
     ]
    },
    {
     "name": "stdout",
     "output_type": "stream",
     "text": [
      "[Warning]: Max iteration during bisection\n",
      "[Warning]: Max iteration during bisection\n"
     ]
    },
    {
     "name": "stderr",
     "output_type": "stream",
     "text": [
      " 27%|█████████████████████████████████████████▌                                                                                                                | 30/111 [01:26<03:27,  2.56s/it]"
     ]
    },
    {
     "name": "stdout",
     "output_type": "stream",
     "text": [
      "[Warning]: Max iteration during bisection\n"
     ]
    },
    {
     "name": "stderr",
     "output_type": "stream",
     "text": [
      " 34%|████████████████████████████████████████████████████▋                                                                                                     | 38/111 [01:48<03:12,  2.64s/it]"
     ]
    },
    {
     "name": "stdout",
     "output_type": "stream",
     "text": [
      "[Warning]: Max iteration during bisection\n"
     ]
    },
    {
     "name": "stderr",
     "output_type": "stream",
     "text": [
      " 44%|███████████████████████████████████████████████████████████████████▉                                                                                      | 49/111 [02:16<02:42,  2.62s/it]"
     ]
    },
    {
     "name": "stdout",
     "output_type": "stream",
     "text": [
      "[Warning]: Max iteration during bisection\n"
     ]
    },
    {
     "name": "stderr",
     "output_type": "stream",
     "text": [
      " 51%|███████████████████████████████████████████████████████████████████████████████                                                                           | 57/111 [02:37<02:05,  2.32s/it]"
     ]
    },
    {
     "name": "stdout",
     "output_type": "stream",
     "text": [
      "[Warning]: Max iteration during bisection\n"
     ]
    },
    {
     "name": "stderr",
     "output_type": "stream",
     "text": [
      " 54%|███████████████████████████████████████████████████████████████████████████████████▏                                                                      | 60/111 [02:47<02:22,  2.80s/it]"
     ]
    },
    {
     "name": "stdout",
     "output_type": "stream",
     "text": [
      "[Warning]: Max iteration during bisection\n",
      "[Warning]: Max iteration during bisection\n"
     ]
    },
    {
     "name": "stderr",
     "output_type": "stream",
     "text": [
      "100%|█████████████████████████████████████████████████████████████████████████████████████████████████████████████████████████████████████████████████████████| 111/111 [04:54<00:00,  2.65s/it]\n"
     ]
    }
   ],
   "source": [
    "adv_datalist_eval = []\n",
    "\n",
    "for one_graph in tqdm(dataset_eval):\n",
    "    one_graph.to(device)\n",
    "#     print(f'before the attack: {one_graph}')\n",
    "    n_perturbations = int(one_graph.x.shape[0] * attack_ratio)\n",
    "    attacker = PGDAttack(surrogate=model, device=device)\n",
    "    _, _, adv_edge_index = attacker.attack_one_graph(one_graph.x, one_graph.edge_index, one_graph.batch, one_graph.y, n_perturbations)\n",
    "    new_graph = Data(edge_index=adv_edge_index, x=one_graph.x, y=one_graph.y)\n",
    "#     print(f'after the attack: {new_graph}')\n",
    "    adv_datalist_eval.append(new_graph)\n",
    "\n",
    "assert len(adv_datalist_eval)==len(dataset_eval),\"haha\""
   ]
  },
  {
   "cell_type": "code",
   "execution_count": 59,
   "id": "6945e98d",
   "metadata": {},
   "outputs": [],
   "source": [
    "dataloader_eval_adv = DataLoader(adv_datalist_eval, batch_size=128)"
   ]
  },
  {
   "cell_type": "markdown",
   "id": "73817fc1",
   "metadata": {},
   "source": [
    "### 接下来尝试带入原来的框架"
   ]
  },
  {
   "cell_type": "code",
   "execution_count": 63,
   "id": "88777c93",
   "metadata": {},
   "outputs": [
    {
     "name": "stderr",
     "output_type": "stream",
     "text": [
      " 12%|███████████████▎                                                                                                                    | 10/86 [00:23<03:00,  2.37s/it]"
     ]
    },
    {
     "name": "stdout",
     "output_type": "stream",
     "text": [
      "[Warning]: Max iteration during bisection\n"
     ]
    },
    {
     "name": "stderr",
     "output_type": "stream",
     "text": [
      " 50%|██████████████████████████████████████████████████████████████████                                                                  | 43/86 [01:47<01:39,  2.30s/it]"
     ]
    },
    {
     "name": "stdout",
     "output_type": "stream",
     "text": [
      "[Warning]: Max iteration during bisection\n"
     ]
    },
    {
     "name": "stderr",
     "output_type": "stream",
     "text": [
      " 78%|██████████████████████████████████████████████████████████████████████████████████████████████████████▊                             | 67/86 [02:47<00:41,  2.18s/it]"
     ]
    },
    {
     "name": "stdout",
     "output_type": "stream",
     "text": [
      "[Warning]: Max iteration during bisection\n",
      "[Warning]: Max iteration during bisection\n"
     ]
    },
    {
     "name": "stderr",
     "output_type": "stream",
     "text": [
      "100%|████████████████████████████████████████████████████████████████████████████████████████████████████████████████████████████████████| 86/86 [03:40<00:00,  2.56s/it]\n"
     ]
    }
   ],
   "source": [
    "attacker = PGDAttack(surrogate=model)\n",
    "dataloader_eval_adv = attacker.attack(eval_set, mask)"
   ]
  },
  {
   "cell_type": "code",
   "execution_count": 64,
   "id": "ed64a5f9",
   "metadata": {},
   "outputs": [
    {
     "data": {
      "text/plain": [
       "<torch_geometric.loader.dataloader.DataLoader at 0x7feeee46ff10>"
      ]
     },
     "execution_count": 64,
     "metadata": {},
     "output_type": "execute_result"
    }
   ],
   "source": [
    "dataloader_eval_adv"
   ]
  },
  {
   "cell_type": "code",
   "execution_count": 65,
   "id": "882df420",
   "metadata": {},
   "outputs": [
    {
     "name": "stdout",
     "output_type": "stream",
     "text": [
      "(A): clean accuracy=0.7748, adversarial accuracy=0.7568\n"
     ]
    }
   ],
   "source": [
    "# Accuracy on the adversarial data only\n",
    "acc_adv_only, _ = eval_encoder(model, dataloader_eval_adv)\n",
    "\n",
    "# Overall adversarial accuracy\n",
    "acc_adv = acc_clean * acc_adv_only # T/all * Tadv/T = Tadv/all\n",
    "\n",
    "print(f'(A): clean accuracy={acc_clean:.4f}, adversarial accuracy={acc_adv:.4f}')"
   ]
  },
  {
   "cell_type": "code",
   "execution_count": 68,
   "id": "5f58a69c",
   "metadata": {},
   "outputs": [
    {
     "data": {
      "text/plain": [
       "tensor([[0, 0, 1],\n",
       "        [1, 2, 2]])"
      ]
     },
     "execution_count": 68,
     "metadata": {},
     "output_type": "execute_result"
    }
   ],
   "source": [
    "nnodes=3\n",
    "torch.triu_indices(row=nnodes, col=nnodes, offset=1)"
   ]
  },
  {
   "cell_type": "code",
   "execution_count": null,
   "id": "9f28e501",
   "metadata": {},
   "outputs": [],
   "source": []
  }
 ],
 "metadata": {
  "kernelspec": {
   "display_name": "Python 3 (ipykernel)",
   "language": "python",
   "name": "python3"
  },
  "language_info": {
   "codemirror_mode": {
    "name": "ipython",
    "version": 3
   },
   "file_extension": ".py",
   "mimetype": "text/x-python",
   "name": "python",
   "nbconvert_exporter": "python",
   "pygments_lexer": "ipython3",
   "version": "3.10.11"
  }
 },
 "nbformat": 4,
 "nbformat_minor": 5
}
