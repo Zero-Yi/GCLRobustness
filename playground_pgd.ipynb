{
 "cells": [
  {
   "cell_type": "code",
   "execution_count": 1,
   "id": "32300c62",
   "metadata": {},
   "outputs": [],
   "source": [
    "import torch\n",
    "import torch.nn.functional as F\n",
    "from torch import nn\n",
    "from torch.nn import Sequential, Linear, ReLU, CrossEntropyLoss\n",
    "from torch.optim import Adam\n",
    "from torch.utils.data.dataset import random_split\n",
    "\n",
    "import GCL.augmentors as A\n",
    "import GCL.losses as L\n",
    "from GCL.models import DualBranchContrast\n",
    "\n",
    "from torch_geometric.nn import GINConv, global_add_pool\n",
    "from torch_geometric.loader import DataLoader\n",
    "from torch_geometric.datasets import TUDataset\n",
    "from torch_geometric.utils import dropout_edge, add_random_edge, to_dense_adj\n",
    "\n",
    "from wgin_conv import WGINConv\n",
    "\n",
    "from tqdm import tqdm\n",
    "import itertools\n",
    "import warnings\n",
    "import sys\n",
    "from sklearn.model_selection import StratifiedKFold\n",
    "import numpy as np\n",
    "import os.path as osp"
   ]
  },
  {
   "cell_type": "code",
   "execution_count": 2,
   "id": "1f605e1a",
   "metadata": {},
   "outputs": [],
   "source": [
    "%load_ext autoreload\n",
    "%autoreload 2"
   ]
  },
  {
   "cell_type": "code",
   "execution_count": 3,
   "id": "d63897ac",
   "metadata": {},
   "outputs": [
    {
     "ename": "AttributeError",
     "evalue": "'NoneType' object has no attribute 'to'",
     "output_type": "error",
     "traceback": [
      "\u001b[0;31m---------------------------------------------------------------------------\u001b[0m",
      "\u001b[0;31mAttributeError\u001b[0m                            Traceback (most recent call last)",
      "Cell \u001b[0;32mIn[3], line 7\u001b[0m\n\u001b[1;32m      4\u001b[0m dataset \u001b[38;5;241m=\u001b[39m TUDataset(path, name\u001b[38;5;241m=\u001b[39mdataset_name)\n\u001b[1;32m      5\u001b[0m one_graph \u001b[38;5;241m=\u001b[39m dataset[\u001b[38;5;241m0\u001b[39m]\n\u001b[0;32m----> 7\u001b[0m adj, features, labels \u001b[38;5;241m=\u001b[39m (to_dense_adj(one_graph\u001b[38;5;241m.\u001b[39medge_index)\u001b[38;5;241m.\u001b[39msqueeze()\u001b[38;5;241m.\u001b[39mto(device), \u001b[43mone_graph\u001b[49m\u001b[38;5;241;43m.\u001b[39;49m\u001b[43mx\u001b[49m\u001b[38;5;241;43m.\u001b[39;49m\u001b[43mto\u001b[49m(device), one_graph\u001b[38;5;241m.\u001b[39my\u001b[38;5;241m.\u001b[39mto(device))\n\u001b[1;32m      8\u001b[0m \u001b[38;5;28mprint\u001b[39m(adj\u001b[38;5;241m.\u001b[39mdevice)\n\u001b[1;32m      9\u001b[0m \u001b[38;5;28mprint\u001b[39m(features\u001b[38;5;241m.\u001b[39mdevice)\n",
      "\u001b[0;31mAttributeError\u001b[0m: 'NoneType' object has no attribute 'to'"
     ]
    }
   ],
   "source": [
    "dataset_name = 'REDDIT-BINARY'\n",
    "device = torch.device('cuda')\n",
    "path = osp.join(osp.expanduser('~'), 'datasets')\n",
    "dataset = TUDataset(path, name=dataset_name)\n",
    "one_graph = dataset[0]\n",
    "\n",
    "adj, features, labels = (to_dense_adj(one_graph.edge_index).squeeze().to(device), one_graph.x.to(device), one_graph.y.to(device))\n",
    "print(adj.device)\n",
    "print(features.device)\n",
    "print(labels.device)"
   ]
  },
  {
   "cell_type": "code",
   "execution_count": 9,
   "id": "9dfcfc25",
   "metadata": {},
   "outputs": [
    {
     "name": "stdout",
     "output_type": "stream",
     "text": [
      "tensor(0.7525) tensor(0.0176)\n"
     ]
    }
   ],
   "source": [
    "a = [0.7650, 0.7350, 0.7700, 0.7400]\n",
    "a = torch.tensor(a)\n",
    "print(a.mean(), a.std())"
   ]
  },
  {
   "cell_type": "code",
   "execution_count": 66,
   "id": "8d192071",
   "metadata": {},
   "outputs": [
    {
     "name": "stdout",
     "output_type": "stream",
     "text": [
      "======The hyperparams: lr=0.01, num_layers=3, epochs=20. On dataset:REDDIT-BINARY======\n",
      "No node feature, paddings of 1 will be used in GIN when forwarding.\n"
     ]
    },
    {
     "name": "stderr",
     "output_type": "stream",
     "text": [
      "(T): 100%|███████████████████████████████████████████████████████████████████████████████████████████████████████████████████████████████████████████| 20/20 [00:05<00:00,  3.56it/s, loss=42.1]\n"
     ]
    },
    {
     "ename": "NameError",
     "evalue": "name 'device' is not defined",
     "output_type": "error",
     "traceback": [
      "\u001b[0;31m---------------------------------------------------------------------------\u001b[0m",
      "\u001b[0;31mNameError\u001b[0m                                 Traceback (most recent call last)",
      "Cell \u001b[0;32mIn[66], line 46\u001b[0m\n\u001b[1;32m     43\u001b[0m         pbar\u001b[38;5;241m.\u001b[39mupdate()\n\u001b[1;32m     45\u001b[0m \u001b[38;5;66;03m# Accuracy on the clean evaluation data\u001b[39;00m\n\u001b[0;32m---> 46\u001b[0m acc_clean, mask \u001b[38;5;241m=\u001b[39m \u001b[43meval_encoder\u001b[49m\u001b[43m(\u001b[49m\u001b[43mmodel\u001b[49m\u001b[43m,\u001b[49m\u001b[43m \u001b[49m\u001b[43mdataloader_eval\u001b[49m\u001b[43m)\u001b[49m\n\u001b[1;32m     48\u001b[0m \u001b[38;5;66;03m# Instantiate an attacker and attack the victim model\u001b[39;00m\n\u001b[1;32m     49\u001b[0m attacker \u001b[38;5;241m=\u001b[39m Greedy(pn\u001b[38;5;241m=\u001b[39m\u001b[38;5;241m0.05\u001b[39m)\n",
      "File \u001b[0;32m~/resources/MyGCL/gin.py:209\u001b[0m, in \u001b[0;36meval_encoder\u001b[0;34m(model, dataloader_eval, device)\u001b[0m\n\u001b[1;32m    207\u001b[0m \u001b[38;5;28;01mfor\u001b[39;00m batch \u001b[38;5;129;01min\u001b[39;00m dataloader_eval:\n\u001b[1;32m    208\u001b[0m     batch\u001b[38;5;241m.\u001b[39mto(device)\n\u001b[0;32m--> 209\u001b[0m     logits \u001b[38;5;241m=\u001b[39m \u001b[43mmodel\u001b[49m\u001b[43m(\u001b[49m\u001b[43mbatch\u001b[49m\u001b[38;5;241;43m.\u001b[39;49m\u001b[43mx\u001b[49m\u001b[43m,\u001b[49m\u001b[43m \u001b[49m\u001b[43mbatch\u001b[49m\u001b[38;5;241;43m.\u001b[39;49m\u001b[43medge_index\u001b[49m\u001b[43m,\u001b[49m\u001b[43m \u001b[49m\u001b[43mbatch\u001b[49m\u001b[38;5;241;43m.\u001b[39;49m\u001b[43mbatch\u001b[49m\u001b[43m)\u001b[49m\n\u001b[1;32m    210\u001b[0m     preds\u001b[38;5;241m.\u001b[39mappend(torch\u001b[38;5;241m.\u001b[39margmax(logits, dim\u001b[38;5;241m=\u001b[39m\u001b[38;5;241m1\u001b[39m))\n\u001b[1;32m    211\u001b[0m     ys\u001b[38;5;241m.\u001b[39mappend(batch\u001b[38;5;241m.\u001b[39my)\n",
      "File \u001b[0;32m~/miniconda3/envs/lsml_new/lib/python3.10/site-packages/torch/nn/modules/module.py:1501\u001b[0m, in \u001b[0;36mModule._call_impl\u001b[0;34m(self, *args, **kwargs)\u001b[0m\n\u001b[1;32m   1496\u001b[0m \u001b[38;5;66;03m# If we don't have any hooks, we want to skip the rest of the logic in\u001b[39;00m\n\u001b[1;32m   1497\u001b[0m \u001b[38;5;66;03m# this function, and just call forward.\u001b[39;00m\n\u001b[1;32m   1498\u001b[0m \u001b[38;5;28;01mif\u001b[39;00m \u001b[38;5;129;01mnot\u001b[39;00m (\u001b[38;5;28mself\u001b[39m\u001b[38;5;241m.\u001b[39m_backward_hooks \u001b[38;5;129;01mor\u001b[39;00m \u001b[38;5;28mself\u001b[39m\u001b[38;5;241m.\u001b[39m_backward_pre_hooks \u001b[38;5;129;01mor\u001b[39;00m \u001b[38;5;28mself\u001b[39m\u001b[38;5;241m.\u001b[39m_forward_hooks \u001b[38;5;129;01mor\u001b[39;00m \u001b[38;5;28mself\u001b[39m\u001b[38;5;241m.\u001b[39m_forward_pre_hooks\n\u001b[1;32m   1499\u001b[0m         \u001b[38;5;129;01mor\u001b[39;00m _global_backward_pre_hooks \u001b[38;5;129;01mor\u001b[39;00m _global_backward_hooks\n\u001b[1;32m   1500\u001b[0m         \u001b[38;5;129;01mor\u001b[39;00m _global_forward_hooks \u001b[38;5;129;01mor\u001b[39;00m _global_forward_pre_hooks):\n\u001b[0;32m-> 1501\u001b[0m     \u001b[38;5;28;01mreturn\u001b[39;00m \u001b[43mforward_call\u001b[49m\u001b[43m(\u001b[49m\u001b[38;5;241;43m*\u001b[39;49m\u001b[43margs\u001b[49m\u001b[43m,\u001b[49m\u001b[43m \u001b[49m\u001b[38;5;241;43m*\u001b[39;49m\u001b[38;5;241;43m*\u001b[39;49m\u001b[43mkwargs\u001b[49m\u001b[43m)\u001b[49m\n\u001b[1;32m   1502\u001b[0m \u001b[38;5;66;03m# Do not call functions when jit is used\u001b[39;00m\n\u001b[1;32m   1503\u001b[0m full_backward_hooks, non_full_backward_hooks \u001b[38;5;241m=\u001b[39m [], []\n",
      "File \u001b[0;32m~/resources/MyGCL/gin.py:166\u001b[0m, in \u001b[0;36mGCL_classifier.forward\u001b[0;34m(self, x, edge_index, batch, edge_weight)\u001b[0m\n\u001b[1;32m    165\u001b[0m \u001b[38;5;28;01mdef\u001b[39;00m \u001b[38;5;21mforward\u001b[39m(\u001b[38;5;28mself\u001b[39m, x, edge_index, batch, edge_weight\u001b[38;5;241m=\u001b[39m\u001b[38;5;28;01mNone\u001b[39;00m):\n\u001b[0;32m--> 166\u001b[0m     x_g, _ \u001b[38;5;241m=\u001b[39m \u001b[38;5;28;43mself\u001b[39;49m\u001b[38;5;241;43m.\u001b[39;49m\u001b[43mencoder\u001b[49m\u001b[43m(\u001b[49m\u001b[43mx\u001b[49m\u001b[43m,\u001b[49m\u001b[43m \u001b[49m\u001b[43medge_index\u001b[49m\u001b[43m,\u001b[49m\u001b[43m \u001b[49m\u001b[43mbatch\u001b[49m\u001b[43m,\u001b[49m\u001b[43m \u001b[49m\u001b[43medge_weight\u001b[49m\u001b[43m)\u001b[49m\n\u001b[1;32m    167\u001b[0m     logits \u001b[38;5;241m=\u001b[39m \u001b[38;5;28mself\u001b[39m\u001b[38;5;241m.\u001b[39mclassifier(x_g)\n\u001b[1;32m    168\u001b[0m     \u001b[38;5;28;01mreturn\u001b[39;00m logits\n",
      "File \u001b[0;32m~/miniconda3/envs/lsml_new/lib/python3.10/site-packages/torch/nn/modules/module.py:1501\u001b[0m, in \u001b[0;36mModule._call_impl\u001b[0;34m(self, *args, **kwargs)\u001b[0m\n\u001b[1;32m   1496\u001b[0m \u001b[38;5;66;03m# If we don't have any hooks, we want to skip the rest of the logic in\u001b[39;00m\n\u001b[1;32m   1497\u001b[0m \u001b[38;5;66;03m# this function, and just call forward.\u001b[39;00m\n\u001b[1;32m   1498\u001b[0m \u001b[38;5;28;01mif\u001b[39;00m \u001b[38;5;129;01mnot\u001b[39;00m (\u001b[38;5;28mself\u001b[39m\u001b[38;5;241m.\u001b[39m_backward_hooks \u001b[38;5;129;01mor\u001b[39;00m \u001b[38;5;28mself\u001b[39m\u001b[38;5;241m.\u001b[39m_backward_pre_hooks \u001b[38;5;129;01mor\u001b[39;00m \u001b[38;5;28mself\u001b[39m\u001b[38;5;241m.\u001b[39m_forward_hooks \u001b[38;5;129;01mor\u001b[39;00m \u001b[38;5;28mself\u001b[39m\u001b[38;5;241m.\u001b[39m_forward_pre_hooks\n\u001b[1;32m   1499\u001b[0m         \u001b[38;5;129;01mor\u001b[39;00m _global_backward_pre_hooks \u001b[38;5;129;01mor\u001b[39;00m _global_backward_hooks\n\u001b[1;32m   1500\u001b[0m         \u001b[38;5;129;01mor\u001b[39;00m _global_forward_hooks \u001b[38;5;129;01mor\u001b[39;00m _global_forward_pre_hooks):\n\u001b[0;32m-> 1501\u001b[0m     \u001b[38;5;28;01mreturn\u001b[39;00m \u001b[43mforward_call\u001b[49m\u001b[43m(\u001b[49m\u001b[38;5;241;43m*\u001b[39;49m\u001b[43margs\u001b[49m\u001b[43m,\u001b[49m\u001b[43m \u001b[49m\u001b[38;5;241;43m*\u001b[39;49m\u001b[38;5;241;43m*\u001b[39;49m\u001b[43mkwargs\u001b[49m\u001b[43m)\u001b[49m\n\u001b[1;32m   1502\u001b[0m \u001b[38;5;66;03m# Do not call functions when jit is used\u001b[39;00m\n\u001b[1;32m   1503\u001b[0m full_backward_hooks, non_full_backward_hooks \u001b[38;5;241m=\u001b[39m [], []\n",
      "File \u001b[0;32m~/resources/MyGCL/gin.py:62\u001b[0m, in \u001b[0;36mGIN.forward\u001b[0;34m(self, x, edge_index, batch, edge_weight)\u001b[0m\n\u001b[1;32m     60\u001b[0m \u001b[38;5;28;01mdef\u001b[39;00m \u001b[38;5;21mforward\u001b[39m(\u001b[38;5;28mself\u001b[39m, x, edge_index, batch, edge_weight\u001b[38;5;241m=\u001b[39m\u001b[38;5;28;01mNone\u001b[39;00m):\n\u001b[1;32m     61\u001b[0m     \u001b[38;5;28;01mif\u001b[39;00m x \u001b[38;5;129;01mis\u001b[39;00m \u001b[38;5;28;01mNone\u001b[39;00m:\n\u001b[0;32m---> 62\u001b[0m         x \u001b[38;5;241m=\u001b[39m torch\u001b[38;5;241m.\u001b[39mones((batch\u001b[38;5;241m.\u001b[39mshape[\u001b[38;5;241m0\u001b[39m], \u001b[38;5;241m1\u001b[39m))\u001b[38;5;241m.\u001b[39mto(\u001b[43mdevice\u001b[49m)\n\u001b[1;32m     64\u001b[0m     xs \u001b[38;5;241m=\u001b[39m []\n\u001b[1;32m     65\u001b[0m     \u001b[38;5;28;01mfor\u001b[39;00m i \u001b[38;5;129;01min\u001b[39;00m \u001b[38;5;28mrange\u001b[39m(\u001b[38;5;28mself\u001b[39m\u001b[38;5;241m.\u001b[39mnum_gc_layers):\n",
      "\u001b[0;31mNameError\u001b[0m: name 'device' is not defined"
     ]
    }
   ],
   "source": [
    "# Prepare the victim model\n",
    "from gin import *\n",
    "\n",
    "dataset_name = 'REDDIT-BINARY'\n",
    "train_multiple_classifiers = False\n",
    "\n",
    "# Hyperparams\n",
    "lr = 0.01\n",
    "num_layers = 3\n",
    "epochs = 20\n",
    "print(f'======The hyperparams: lr={lr}, num_layers={num_layers}, epochs={epochs}. On dataset:{dataset_name}======')\n",
    "\n",
    "device = torch.device('cuda')\n",
    "path = osp.join(osp.expanduser('~'), 'datasets')\n",
    "dataset = TUDataset(path, name=dataset_name)\n",
    "dataloader = DataLoader(dataset, batch_size=128, shuffle=True)\n",
    "num_features = max(dataset.num_features, 1)\n",
    "num_classes = dataset.num_classes\n",
    "if dataset.num_features==0 :\n",
    "    print(\"No node feature, paddings of 1 will be used in GIN when forwarding.\")\n",
    "\n",
    "\n",
    "best_hyperparams = {'lr': 0.01, 'num_layer': 5, 'hidden_dim': 32, 'dropout': 0.5, 'batch_size': 128}\n",
    "lr, num_layer, hidden_dim, dropout, batch_size = best_hyperparams.values()\n",
    "\n",
    "train_val_set, eval_set = random_split(dataset, [0.9, 0.1])\n",
    "dataloader_train = DataLoader(train_val_set, batch_size=batch_size, shuffle=True) # Use all train+val to train the final model\n",
    "dataloader_eval = DataLoader(eval_set, batch_size=128, shuffle=False) # Do not shuffle the evaluation set to make it reproduceable\n",
    "\n",
    "\n",
    "\n",
    "encoder_model = GIN(num_features=num_features, dim=hidden_dim, num_gc_layers=num_layer, dropout=dropout).to(device)\n",
    "classifier = LogReg(hidden_dim * num_layer, num_classes).to(device)\n",
    "model = GCL_classifier(encoder_model, classifier)\n",
    "optimizer = Adam(model.parameters(), lr=lr)\n",
    "scheduler = StepLR(optimizer, step_size=50, gamma=0.5)\n",
    "\n",
    "# Train the encoder with full dataset without labels using contrastive learning\n",
    "with tqdm(total=epochs, desc='(T)') as pbar:\n",
    "    for epoch in range(1, epochs + 1):\n",
    "        loss = train(model, dataloader_train, optimizer, scheduler)\n",
    "        pbar.set_postfix({'loss': loss})\n",
    "        pbar.update()\n",
    "\n",
    "# Accuracy on the clean evaluation data\n",
    "acc_clean, mask = eval_encoder(model, dataloader_eval)\n",
    "\n",
    "# Instantiate an attacker and attack the victim model\n",
    "attacker = Greedy(pn=0.05)\n",
    "dataloader_eval_adv = attacker.attack(eval_set, mask)\n",
    "\n",
    "# Accuracy on the adversarial data only\n",
    "acc_adv_only, _ = eval_encoder(model, dataloader_eval_adv)\n",
    "\n",
    "# Overall adversarial accuracy\n",
    "acc_adv = acc_clean * acc_adv_only # T/all * Tadv/T = Tadv/all\n",
    "\n",
    "print(f'(A): clean accuracy={acc_clean:.4f}, adversarial accuracy={acc_adv:.4f}')\n"
   ]
  },
  {
   "cell_type": "code",
   "execution_count": 5,
   "id": "3498c846",
   "metadata": {},
   "outputs": [],
   "source": [
    "import torch_geometric\n",
    "from attacker.PGD import PGDAttack"
   ]
  },
  {
   "cell_type": "code",
   "execution_count": 6,
   "id": "d599460d",
   "metadata": {},
   "outputs": [],
   "source": [
    "attacker = PGDAttack(surrogate=model, device=device)"
   ]
  },
  {
   "cell_type": "code",
   "execution_count": 7,
   "id": "f08ffc7d",
   "metadata": {},
   "outputs": [
    {
     "data": {
      "text/plain": [
       "Data(edge_index=[2, 162], x=[42, 3], y=[1])"
      ]
     },
     "execution_count": 7,
     "metadata": {},
     "output_type": "execute_result"
    }
   ],
   "source": [
    "one_graph.to(device)"
   ]
  },
  {
   "cell_type": "code",
   "execution_count": 8,
   "id": "6913572f",
   "metadata": {},
   "outputs": [
    {
     "data": {
      "text/plain": [
       "tensor([[-0.9111, -3.5493]], device='cuda:0', grad_fn=<AddmmBackward0>)"
      ]
     },
     "execution_count": 8,
     "metadata": {},
     "output_type": "execute_result"
    }
   ],
   "source": [
    "model(one_graph.x, one_graph.edge_index, one_graph.batch)"
   ]
  },
  {
   "cell_type": "code",
   "execution_count": 9,
   "id": "3e009fa1",
   "metadata": {},
   "outputs": [],
   "source": [
    "fc_edge_index, edge_weight = attacker.preprocess(one_graph.x, one_graph.edge_index)"
   ]
  },
  {
   "cell_type": "code",
   "execution_count": 10,
   "id": "93b7ff50",
   "metadata": {},
   "outputs": [
    {
     "data": {
      "text/plain": [
       "tensor([[ 0,  0,  0,  ..., 41, 41, 41],\n",
       "        [ 1,  2,  3,  ..., 38, 39, 40]], device='cuda:0')"
      ]
     },
     "execution_count": 10,
     "metadata": {},
     "output_type": "execute_result"
    }
   ],
   "source": [
    "fc_edge_index"
   ]
  },
  {
   "cell_type": "code",
   "execution_count": 11,
   "id": "f4497a4d",
   "metadata": {},
   "outputs": [
    {
     "data": {
      "text/plain": [
       "tensor([0., 0., 0.,  ..., 0., 0., 1.], device='cuda:0')"
      ]
     },
     "execution_count": 11,
     "metadata": {},
     "output_type": "execute_result"
    }
   ],
   "source": [
    "edge_weight"
   ]
  },
  {
   "cell_type": "code",
   "execution_count": 12,
   "id": "22201d33",
   "metadata": {},
   "outputs": [
    {
     "data": {
      "text/plain": [
       "tensor([[-0.9111, -3.5493]], device='cuda:0', grad_fn=<AddmmBackward0>)"
      ]
     },
     "execution_count": 12,
     "metadata": {},
     "output_type": "execute_result"
    }
   ],
   "source": [
    "model(one_graph.x, fc_edge_index, one_graph.batch, edge_weight=edge_weight)"
   ]
  },
  {
   "cell_type": "code",
   "execution_count": 13,
   "id": "c34abfa4",
   "metadata": {},
   "outputs": [
    {
     "name": "stdout",
     "output_type": "stream",
     "text": [
      "0.06904802471399307\n"
     ]
    }
   ],
   "source": [
    "logit = model(one_graph.x, fc_edge_index, one_graph.batch, edge_weight=edge_weight)\n",
    "loss = F.cross_entropy(logit, one_graph.y)\n",
    "print(loss.item())"
   ]
  },
  {
   "cell_type": "markdown",
   "id": "33a721ae",
   "metadata": {},
   "source": [
    "### 上面已经成功地进行了改造，接下来求取对于edge_weight的梯度"
   ]
  },
  {
   "cell_type": "code",
   "execution_count": 14,
   "id": "d773639c",
   "metadata": {},
   "outputs": [],
   "source": [
    "n_perturbations = int(one_graph.x.shape[0] * 0.05)\n",
    "fc_edge_index, modified_weight, adv_edge_index = attacker.attack_one_graph(one_graph.x, one_graph.edge_index, one_graph.batch, one_graph.y, n_perturbations)"
   ]
  },
  {
   "cell_type": "code",
   "execution_count": 15,
   "id": "f8ad3a15",
   "metadata": {},
   "outputs": [
    {
     "data": {
      "text/plain": [
       "torch.Size([2, 160])"
      ]
     },
     "execution_count": 15,
     "metadata": {},
     "output_type": "execute_result"
    }
   ],
   "source": [
    "adv_edge_index.shape"
   ]
  },
  {
   "cell_type": "code",
   "execution_count": 16,
   "id": "f8471c77",
   "metadata": {},
   "outputs": [
    {
     "name": "stdout",
     "output_type": "stream",
     "text": [
      "0.14834341406822205\n"
     ]
    }
   ],
   "source": [
    "logit = model(one_graph.x, adv_edge_index, one_graph.batch)\n",
    "loss = F.cross_entropy(logit, one_graph.y)\n",
    "print(loss.item())"
   ]
  },
  {
   "cell_type": "code",
   "execution_count": 17,
   "id": "75149676",
   "metadata": {},
   "outputs": [
    {
     "name": "stdout",
     "output_type": "stream",
     "text": [
      "0.14834341406822205\n"
     ]
    }
   ],
   "source": [
    "logit = model(one_graph.x, fc_edge_index, one_graph.batch, edge_weight=modified_weight)\n",
    "loss = F.cross_entropy(logit, one_graph.y)\n",
    "print(loss.item())"
   ]
  },
  {
   "cell_type": "code",
   "execution_count": 18,
   "id": "96a44527",
   "metadata": {},
   "outputs": [
    {
     "name": "stdout",
     "output_type": "stream",
     "text": [
      "torch.Size([2, 1722])\n",
      "torch.Size([2, 160])\n"
     ]
    }
   ],
   "source": [
    "print(fc_edge_index.shape)\n",
    "print(adv_edge_index.shape)"
   ]
  },
  {
   "cell_type": "markdown",
   "id": "3a544110",
   "metadata": {},
   "source": [
    "### 已经成功实现了PGD，接下来将整个test dataset进行转换"
   ]
  },
  {
   "cell_type": "code",
   "execution_count": 54,
   "id": "caf3506d",
   "metadata": {},
   "outputs": [],
   "source": [
    "from torch_geometric.data import Data"
   ]
  },
  {
   "cell_type": "code",
   "execution_count": 55,
   "id": "42b0e75d",
   "metadata": {},
   "outputs": [],
   "source": [
    "attacker = PGDAttack(surrogate=model, device=device)\n",
    "attack_ratio = 0.05"
   ]
  },
  {
   "cell_type": "code",
   "execution_count": 56,
   "id": "5f0d3e14",
   "metadata": {},
   "outputs": [],
   "source": [
    "dataset_eval = dataset[eval_set.indices]"
   ]
  },
  {
   "cell_type": "code",
   "execution_count": 57,
   "id": "1062077d",
   "metadata": {},
   "outputs": [
    {
     "data": {
      "text/plain": [
       "Data(edge_index=[2, 286], x=[77, 3], y=[1])"
      ]
     },
     "execution_count": 57,
     "metadata": {},
     "output_type": "execute_result"
    }
   ],
   "source": [
    "onegraph = dataset_eval[0]\n",
    "onegraph"
   ]
  },
  {
   "cell_type": "code",
   "execution_count": 52,
   "id": "3adb5336",
   "metadata": {},
   "outputs": [
    {
     "name": "stderr",
     "output_type": "stream",
     "text": [
      "  1%|█▍                                                                                                                                                         | 1/111 [00:02<04:51,  2.65s/it]"
     ]
    },
    {
     "name": "stdout",
     "output_type": "stream",
     "text": [
      "[Warning]: Max iteration during bisection\n"
     ]
    },
    {
     "name": "stderr",
     "output_type": "stream",
     "text": [
      " 12%|██████████████████                                                                                                                                        | 13/111 [00:33<04:05,  2.50s/it]"
     ]
    },
    {
     "name": "stdout",
     "output_type": "stream",
     "text": [
      "[Warning]: Max iteration during bisection\n",
      "[Warning]: Max iteration during bisection\n",
      "[Warning]: Max iteration during bisection\n",
      "[Warning]: Max iteration during bisection\n"
     ]
    },
    {
     "name": "stderr",
     "output_type": "stream",
     "text": [
      " 14%|████████████████████▊                                                                                                                                     | 15/111 [00:45<06:25,  4.02s/it]"
     ]
    },
    {
     "name": "stdout",
     "output_type": "stream",
     "text": [
      "[Warning]: Max iteration during bisection\n"
     ]
    },
    {
     "name": "stderr",
     "output_type": "stream",
     "text": [
      " 19%|█████████████████████████████▏                                                                                                                            | 21/111 [01:02<04:08,  2.76s/it]"
     ]
    },
    {
     "name": "stdout",
     "output_type": "stream",
     "text": [
      "[Warning]: Max iteration during bisection\n",
      "[Warning]: Max iteration during bisection\n"
     ]
    },
    {
     "name": "stderr",
     "output_type": "stream",
     "text": [
      " 27%|█████████████████████████████████████████▌                                                                                                                | 30/111 [01:26<03:27,  2.56s/it]"
     ]
    },
    {
     "name": "stdout",
     "output_type": "stream",
     "text": [
      "[Warning]: Max iteration during bisection\n"
     ]
    },
    {
     "name": "stderr",
     "output_type": "stream",
     "text": [
      " 34%|████████████████████████████████████████████████████▋                                                                                                     | 38/111 [01:48<03:12,  2.64s/it]"
     ]
    },
    {
     "name": "stdout",
     "output_type": "stream",
     "text": [
      "[Warning]: Max iteration during bisection\n"
     ]
    },
    {
     "name": "stderr",
     "output_type": "stream",
     "text": [
      " 44%|███████████████████████████████████████████████████████████████████▉                                                                                      | 49/111 [02:16<02:42,  2.62s/it]"
     ]
    },
    {
     "name": "stdout",
     "output_type": "stream",
     "text": [
      "[Warning]: Max iteration during bisection\n"
     ]
    },
    {
     "name": "stderr",
     "output_type": "stream",
     "text": [
      " 51%|███████████████████████████████████████████████████████████████████████████████                                                                           | 57/111 [02:37<02:05,  2.32s/it]"
     ]
    },
    {
     "name": "stdout",
     "output_type": "stream",
     "text": [
      "[Warning]: Max iteration during bisection\n"
     ]
    },
    {
     "name": "stderr",
     "output_type": "stream",
     "text": [
      " 54%|███████████████████████████████████████████████████████████████████████████████████▏                                                                      | 60/111 [02:47<02:22,  2.80s/it]"
     ]
    },
    {
     "name": "stdout",
     "output_type": "stream",
     "text": [
      "[Warning]: Max iteration during bisection\n",
      "[Warning]: Max iteration during bisection\n"
     ]
    },
    {
     "name": "stderr",
     "output_type": "stream",
     "text": [
      "100%|█████████████████████████████████████████████████████████████████████████████████████████████████████████████████████████████████████████████████████████| 111/111 [04:54<00:00,  2.65s/it]\n"
     ]
    }
   ],
   "source": [
    "adv_datalist_eval = []\n",
    "\n",
    "for one_graph in tqdm(dataset_eval):\n",
    "    one_graph.to(device)\n",
    "#     print(f'before the attack: {one_graph}')\n",
    "    n_perturbations = int(one_graph.x.shape[0] * attack_ratio)\n",
    "    attacker = PGDAttack(surrogate=model, device=device)\n",
    "    _, _, adv_edge_index = attacker.attack_one_graph(one_graph.x, one_graph.edge_index, one_graph.batch, one_graph.y, n_perturbations)\n",
    "    new_graph = Data(edge_index=adv_edge_index, x=one_graph.x, y=one_graph.y)\n",
    "#     print(f'after the attack: {new_graph}')\n",
    "    adv_datalist_eval.append(new_graph)\n",
    "\n",
    "assert len(adv_datalist_eval)==len(dataset_eval),\"haha\""
   ]
  },
  {
   "cell_type": "code",
   "execution_count": 59,
   "id": "6945e98d",
   "metadata": {},
   "outputs": [],
   "source": [
    "dataloader_eval_adv = DataLoader(adv_datalist_eval, batch_size=128)"
   ]
  },
  {
   "cell_type": "markdown",
   "id": "73817fc1",
   "metadata": {},
   "source": [
    "### 接下来尝试带入原来的框架"
   ]
  },
  {
   "cell_type": "code",
   "execution_count": 63,
   "id": "88777c93",
   "metadata": {},
   "outputs": [
    {
     "name": "stderr",
     "output_type": "stream",
     "text": [
      " 12%|███████████████▎                                                                                                                    | 10/86 [00:23<03:00,  2.37s/it]"
     ]
    },
    {
     "name": "stdout",
     "output_type": "stream",
     "text": [
      "[Warning]: Max iteration during bisection\n"
     ]
    },
    {
     "name": "stderr",
     "output_type": "stream",
     "text": [
      " 50%|██████████████████████████████████████████████████████████████████                                                                  | 43/86 [01:47<01:39,  2.30s/it]"
     ]
    },
    {
     "name": "stdout",
     "output_type": "stream",
     "text": [
      "[Warning]: Max iteration during bisection\n"
     ]
    },
    {
     "name": "stderr",
     "output_type": "stream",
     "text": [
      " 78%|██████████████████████████████████████████████████████████████████████████████████████████████████████▊                             | 67/86 [02:47<00:41,  2.18s/it]"
     ]
    },
    {
     "name": "stdout",
     "output_type": "stream",
     "text": [
      "[Warning]: Max iteration during bisection\n",
      "[Warning]: Max iteration during bisection\n"
     ]
    },
    {
     "name": "stderr",
     "output_type": "stream",
     "text": [
      "100%|████████████████████████████████████████████████████████████████████████████████████████████████████████████████████████████████████| 86/86 [03:40<00:00,  2.56s/it]\n"
     ]
    }
   ],
   "source": [
    "attacker = PGDAttack(surrogate=model)\n",
    "dataloader_eval_adv = attacker.attack(eval_set, mask)"
   ]
  },
  {
   "cell_type": "code",
   "execution_count": 64,
   "id": "ed64a5f9",
   "metadata": {},
   "outputs": [
    {
     "data": {
      "text/plain": [
       "<torch_geometric.loader.dataloader.DataLoader at 0x7feeee46ff10>"
      ]
     },
     "execution_count": 64,
     "metadata": {},
     "output_type": "execute_result"
    }
   ],
   "source": [
    "dataloader_eval_adv"
   ]
  },
  {
   "cell_type": "code",
   "execution_count": 65,
   "id": "882df420",
   "metadata": {},
   "outputs": [
    {
     "name": "stdout",
     "output_type": "stream",
     "text": [
      "(A): clean accuracy=0.7748, adversarial accuracy=0.7568\n"
     ]
    }
   ],
   "source": [
    "# Accuracy on the adversarial data only\n",
    "acc_adv_only, _ = eval_encoder(model, dataloader_eval_adv)\n",
    "\n",
    "# Overall adversarial accuracy\n",
    "acc_adv = acc_clean * acc_adv_only # T/all * Tadv/T = Tadv/all\n",
    "\n",
    "print(f'(A): clean accuracy={acc_clean:.4f}, adversarial accuracy={acc_adv:.4f}')"
   ]
  },
  {
   "cell_type": "code",
   "execution_count": 68,
   "id": "5f58a69c",
   "metadata": {},
   "outputs": [
    {
     "data": {
      "text/plain": [
       "tensor([[0, 0, 1],\n",
       "        [1, 2, 2]])"
      ]
     },
     "execution_count": 68,
     "metadata": {},
     "output_type": "execute_result"
    }
   ],
   "source": [
    "nnodes=3\n",
    "torch.triu_indices(row=nnodes, col=nnodes, offset=1)"
   ]
  },
  {
   "cell_type": "code",
   "execution_count": null,
   "id": "9f28e501",
   "metadata": {},
   "outputs": [],
   "source": []
  }
 ],
 "metadata": {
  "kernelspec": {
   "display_name": "Python 3 (ipykernel)",
   "language": "python",
   "name": "python3"
  },
  "language_info": {
   "codemirror_mode": {
    "name": "ipython",
    "version": 3
   },
   "file_extension": ".py",
   "mimetype": "text/x-python",
   "name": "python",
   "nbconvert_exporter": "python",
   "pygments_lexer": "ipython3",
   "version": "3.10.11"
  }
 },
 "nbformat": 4,
 "nbformat_minor": 5
}
